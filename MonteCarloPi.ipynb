{
 "cells": [
  {
   "cell_type": "code",
   "execution_count": 42,
   "metadata": {},
   "outputs": [
    {
     "name": "stdout",
     "output_type": "stream",
     "text": [
      "Using matplotlib backend: TkAgg\n"
     ]
    }
   ],
   "source": [
    "%matplotlib\n",
    "import matplotlib.pyplot as plt \n",
    "from random import random\n",
    "\n",
    "# The main goal of monte carlo is to use repeated random sampling \n",
    "# to obtain numerical results. The most straightforward algorithm \n",
    "# for Monte Carlo can basically be broken down into the following steps:\n",
    "\n",
    "#    1) Get some random input\n",
    "#    2) Evaluate\n",
    "#    3) Repeat steps 1 and 2 as needed (To improve accuracy more is better)\n",
    "#    4) Determine the average of all these samples and multiply by the range\n",
    "\n",
    "# The Estimation of Pi using Monte Carlo Method is one of the more basic examples.\n",
    "# The idea is that you have a unit square (all sides equal to 1) with a circle \n",
    "# perfectly enscribed in the center of the square with diameter equal to 1. You \n",
    "# now wish to sample random points in the square and after which you want to know  \n",
    "# how many of those points lie inside the circle. You can take the ratio of the \n",
    "# total number of points inside the circle and the total number of points you\n",
    "# generated. \n",
    "\n",
    "# The area of a square is A = 1*1 =1\n",
    "# The area of a circle is A = pi*r^2 = pi*(1/2)^2 = pi/4\n",
    "# Then the relationship between the areas and number of points can be used to \n",
    "# \"sovle for\" or approximate Pi. The relationship is this:\n",
    "# (Circle area) / (Square area) = (Points inside circle) / (Total number of points)\n",
    "# ---> (pi*r^2) / (1) = (Points inside circle) / (Total number of points)\n",
    "# ---> pi ~ ((Points inside circle) / (Total number of points))*4"
   ]
  },
  {
   "cell_type": "code",
   "execution_count": 47,
   "metadata": {},
   "outputs": [
    {
     "name": "stdout",
     "output_type": "stream",
     "text": [
      "3\n"
     ]
    }
   ],
   "source": [
    "x_in = []; y_in = []\n",
    "x_out = []; y_out = []\n",
    "inCirc = 0 # Initially there are no points inside the circle\n",
    "n = 10**5 # Total number of points (increase number to increase accuracy)\n",
    "for _ in range(n):\n",
    "    x = random()\n",
    "    y = random()\n",
    "    if x**2 + y**2 <= 1: # circle equation\n",
    "        inCirc += 1 \n",
    "        x_in.append(x) # inside circle\n",
    "        y_in.append(y)\n",
    "    else:\n",
    "        x_out.append(x) # outside circle\n",
    "        y_out.append(y)\n",
    "pi = (4*inCirc)/n\n",
    "print(pi)\n",
    "\n",
    "fig, ax = plt.subplots()\n",
    "ax.set_aspect('equal')\n",
    "ax.scatter(x_in, y_in, color='r')\n",
    "ax.scatter(x_out, y_out, color='b')\n",
    "fig.show()"
   ]
  },
  {
   "cell_type": "code",
   "execution_count": null,
   "metadata": {},
   "outputs": [],
   "source": []
  }
 ],
 "metadata": {
  "kernelspec": {
   "display_name": "Python 2",
   "language": "python",
   "name": "python2"
  },
  "language_info": {
   "codemirror_mode": {
    "name": "ipython",
    "version": 2
   },
   "file_extension": ".py",
   "mimetype": "text/x-python",
   "name": "python",
   "nbconvert_exporter": "python",
   "pygments_lexer": "ipython2",
   "version": "2.7.15+"
  }
 },
 "nbformat": 4,
 "nbformat_minor": 2
}
