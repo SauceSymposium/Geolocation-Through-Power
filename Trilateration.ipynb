{
 "cells": [
  {
   "cell_type": "code",
   "execution_count": 5,
   "metadata": {},
   "outputs": [
    {
     "name": "stdout",
     "output_type": "stream",
     "text": [
      "(0.0125, 0.05)\n"
     ]
    }
   ],
   "source": [
    "#import pylab\n",
    "#from scipy.optimize import fsolve\n",
    "\n",
    "# Given 3 receivers we can locate the transmitter using \n",
    "# Trilateration to pin-point it's location \n",
    "def trackTx(x1,x2,x3,y1,y2,y3,r1,r2,r3):\n",
    "    A = 2*x2 - 2*x1\n",
    "    B = 2*y2 - 2*y1\n",
    "    C = r1**2 - r2**2 - x1**2 + x2**2 - y1**2 + y2**2\n",
    "    D = 2*x3 - 2*x2\n",
    "    E = 2*y3 - 2*y2\n",
    "    F = r2**2 - r3**2 - x2**2 + x3**2 - y2**2 + y3**2\n",
    "    \n",
    "    x = (C*E - F*B)/(E*A - B*D)\n",
    "    y = (C*D - A*F)/(B*D - A*E)\n",
    "    \n",
    "    return x,y\n",
    "\n",
    "# Receivers 1, 2 and 3 location (x,y) and signal strength (r) \n",
    "x1,y1,r1 = 0.0, 1000.0, 5.0 \n",
    "x2,y2,r2 = 1000.0, 0.0, 10.0 \n",
    "x3,y3,r3 = 0.0, -1000.0, 15.0  \n",
    "\n",
    "print(trackTx(x1,x2,x3,y1,y2,y3,r1,r2,r3))\n"
   ]
  },
  {
   "cell_type": "code",
   "execution_count": null,
   "metadata": {},
   "outputs": [],
   "source": []
  }
 ],
 "metadata": {
  "kernelspec": {
   "display_name": "Python 3",
   "language": "python",
   "name": "python3"
  },
  "language_info": {
   "codemirror_mode": {
    "name": "ipython",
    "version": 3
   },
   "file_extension": ".py",
   "mimetype": "text/x-python",
   "name": "python",
   "nbconvert_exporter": "python",
   "pygments_lexer": "ipython3",
   "version": "3.7.3"
  }
 },
 "nbformat": 4,
 "nbformat_minor": 2
}
