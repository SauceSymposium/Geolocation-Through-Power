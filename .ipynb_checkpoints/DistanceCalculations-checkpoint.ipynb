{
 "cells": [
  {
   "cell_type": "code",
   "execution_count": 54,
   "metadata": {},
   "outputs": [
    {
     "name": "stdout",
     "output_type": "stream",
     "text": [
      "Populating the interactive namespace from numpy and matplotlib\n"
     ]
    }
   ],
   "source": [
    "################ FUNCTIONS\n",
    "import math\n",
    "%pylab inline\n",
    "import pylab\n",
    "from scipy.optimize import fsolve\n",
    "from random import random\n",
    "import numpy as np\n",
    "\n",
    "# Uses the Haversine formula to calculate the distance (in meters) between \n",
    "# two points given their longitude and latitude in decimal format.\n",
    "# The Haversine function is defined as: hav(theta) = sin^2(theta/2)\n",
    "# From: https://en.wikipedia.org/wiki/Haversine_formula\n",
    "# & https://rosettacode.org/wiki/Haversine_formula#Python\n",
    "def haverDist(lat1, long1, lat2, long2):\n",
    "    R      = 6.371009e6 # Earths Radius (m) or 6371.009 (km) or 3958.7613 (miles)\n",
    "    Long1  = math.radians(long1)\n",
    "    Lat1   = math.radians(lat1)\n",
    "    Long2  = math.radians(long2)\n",
    "    Lat2   = math.radians(lat2)\n",
    "    dLat   = Lat2 - Lat1\n",
    "    dLong  = Long2 - Long1 \n",
    "    eqn1   = math.sin(dLat/2)**2 + math.cos(Lat1)*math.cos(Lat2)*math.sin(dLong/2)**2\n",
    "    HavDis = R*2*math.atan2(math.sqrt(eqn1), math.sqrt(1-eqn1)) # atan2(y,x) = atan(y/x)\n",
    "    return HavDis\n",
    "\n",
    "def haverDist2(transmit1, transmit2):\n",
    "    lat1, long1, _ = transmit1\n",
    "    lat2, long2, _ = transmit2\n",
    "    return haverDist(lat1, long1, lat2, long2)\n",
    "\n",
    "# Convert Lat, Lon, Altitude to Earth-Centered-Earth-Fixed (ECEF)\n",
    "# Returns x, y, z in meters. Assumes the elevation to be in feet and then converts it to meters.\n",
    "# SOURCE: http://danceswithcode.net/engineeringnotes/geodetic_to_ecef/geodetic_to_ecef.html\n",
    "# TEST ACCURACY: https://www.oc.nps.edu/oc2902w/coord/llhxyz.htm?source=post_page---------------------------\n",
    "def LatLon2xyz(lat, lon, alt):\n",
    "    alt   = alt/(3.28084)            # Convert elevation from feet to meters\n",
    "    lat   = math.radians(lat)                # Convert degrees to radians\n",
    "    lon   = math.radians(lon)                # Convert degrees to radians\n",
    "    ec    = 6.6943799901377997e-3   # WGS-84 first eccentricity squared\n",
    "    a     = 6378137.0               # WGS-84 semi-major axis\n",
    "    Erad  = 6.371009e6              # Earths radius in meters\n",
    "    n     = a/math.sqrt(1 - ec*math.sin(lat)*math.sin(lat))\n",
    "    ecefX = (n + alt)*math.cos(lat)*math.cos(lon)\n",
    "    ecefY = (n + alt)*math.cos(lat)*math.sin(lon)\n",
    "    ecefZ = (n*(1 - ec) + alt)*math.sin(lat)\n",
    "    return ecefX, ecefY, ecefZ\n",
    "\n",
    "# Use this function to convert x,y,z back to Lat, Lon, Altitude respectively\n",
    "# Assumes all x,y,z values are in meters and returns Altitude in meters\n",
    "# SOURCE: http://danceswithcode.net/engineeringnotes/geodetic_to_ecef/geodetic_to_ecef.html\n",
    "def xyz2LatLon(x, y, z):\n",
    "    a  = 6378137.0              # WGS-84 semi-major axis\n",
    "    e2 = 6.6943799901377997e-3  # WGS-84 first eccentricity squared\n",
    "    a1 = 4.2697672707157535e+4  # a1 = a*e2\n",
    "    a2 = 1.8230912546075455e+9  # a2 = a1*a1\n",
    "    a3 = 1.4291722289812413e+2  # a3 = a1*e2/2\n",
    "    a4 = 4.5577281365188637e+9  # a4 = 2.5*a2\n",
    "    a5 = 4.2840589930055659e+4  # a5 = a1+a3\n",
    "    a6 = 9.9330562000986220e-1  # a6 = 1-e2\n",
    "    w2 = x*x + y*y \n",
    "    w  = math.sqrt(w2)\n",
    "    r2 = w2 + z*z\n",
    "    r  = math.sqrt(r2)\n",
    "    Lon = math.atan2(y, x) # Lon \n",
    "    s2 = z*z/r2\n",
    "    c2 = w2/r2\n",
    "    u = a2/r\n",
    "    v = a3 - (a4/r)\n",
    "    if(c2 > 0.3):\n",
    "        s = (math.sqrt(z**2)/r)*(1.0 + c2*(a1+u+s2*v)/r) # z shouid be positive |z|\n",
    "        Lat = math.asin(s) # Lat\n",
    "        ss = s*s\n",
    "        c = math.sqrt(1.0-ss)\n",
    "    else:\n",
    "        c = (w/r)*(1.0 - s2*(a5-u-c2*v)/r)\n",
    "        Lat = math.acos(c) # Lat\n",
    "        ss = 1.0 - c*c\n",
    "        s = math.sqrt(ss)\n",
    "    rg = a/math.sqrt(1.0 - e2*ss)\n",
    "    rf = a6*rg\n",
    "    u = w - rg*c\n",
    "    v = math.sqrt(z**2) - rf*s # z shouid be positive |z|\n",
    "    f = c*u + s*v\n",
    "    m = c*v - s*u\n",
    "    p = m/((rf/(1.0 - e2*ss))+f) \n",
    "    Lat = Lat + p # Lat\n",
    "    Alt = f + m*p/2.0 # Altitude\n",
    "    if(z < 0.0):\n",
    "        Lat *= -1.0 # Lat\n",
    "    Lat = (180.0/math.pi)*Lat\n",
    "    Lon = (180.0/math.pi)*Lon\n",
    "    return Lat, Lon, Alt # Return Lat, Lon, Altitude in that order\n",
    "\n",
    "# Uses the distance formula to solve for the distance between the Receiver & Transmitter with  \n",
    "# the purpose of using these distances to find ratios. Assumes that all inputs are in the \n",
    "# x,y,z format and the units are in meters.\n",
    "def R(xTran, yTran, zTran, xRec, yRec, zRec):\n",
    "    # Cartesian Distance Formula for 3-Dimensions\n",
    "    R = math.sqrt((xTran - (xRec))**2 + (yTran - (yRec))**2) # + (zTran - (zRec))**2)\n",
    "    return R\n",
    "\n",
    "def f2M(x): # converts feet to meters \n",
    "    Meter = x/(3.28084)\n",
    "    return Meter\n",
    "\n",
    "def m2Km(x): #Convert meters to kilometers \n",
    "    km = 0.001*x\n",
    "    return km\n",
    "\n",
    "def gps2Dec(degrees, minutes, seconds): # Converts GPS coordinates to Lat and Long in decimal\n",
    "    D = float(degrees) + float(minutes)/60 + float(seconds)/(60*60)\n",
    "    return D\n",
    "\n",
    "# Function rotates axes \n",
    "# Source: https://en.wikipedia.org/wiki/Rotation_(mathematics)#Two_dimensions\n",
    "def rotXYZ(lat, lon, x, y, z):\n",
    "    lat = math.radians(lat)\n",
    "    lon = math.radians(lon)\n",
    "    xPrime = x*math.cos(-lon) - y*math.sin(-lon) # Rotate on z-axis by -lon\n",
    "    yPrime = x*math.sin(-lon) + y*math.cos(-lon)\n",
    "    x = xPrime; y = yPrime # This is the returned y\n",
    "    \n",
    "    xPrime = x*math.cos(-lat) - z*math.sin(-lat) # Rotate on y-axis by -lat\n",
    "    zPrime = x*math.sin(-lat) + z*math.cos(-lat)\n",
    "    x = xPrime; z = zPrime \n",
    "    \n",
    "    xPrime = x*math.cos(math.pi/2) - z*math.sin(math.pi/2) # Lastly rotate on y-axis by 90 deg\n",
    "    zPrime = x*math.sin(math.pi/2) + z*math.cos(math.pi/2)\n",
    "    x = xPrime; z = zPrime # These are the returned x & z\n",
    "    return x, y, z"
   ]
  },
  {
   "cell_type": "code",
   "execution_count": 55,
   "metadata": {},
   "outputs": [],
   "source": [
    "################ EQUATIONS \n",
    "# Modified function originally written by David DeTienne 801-209-0802, david.detienne@raytheon.\n",
    "\n",
    "def eqns012(p): # Receivers: Behavioral Science or BEHS(0), Browning(1), Dentistry(2)\n",
    "    global gam01,gam12,x0,y0,x1,y1,z1,x2,y2\n",
    "    x,y, z = p \n",
    "    return (gam01*((x0-x)**2+(y0-y)**2)-(x1-x)**2-(y1-y)**2, # Transmitter z = 0\n",
    "            gam12*((x1-x)**2+(y1-y)**2)-(x2-x)**2-(y2-y)**2)\n",
    "\n",
    "def eqn467(p): # Receivers: Honors Dorm(4), South Medical Tower(6), SMBB(7)\n",
    "    global gam76, gam64, x4, x6, x7, y4, y6, y7\n",
    "    x,y = p \n",
    "    return (gam76*((x7-x)**2+(y7-y)**2)-(x6-x)**2-(y6-y)**2, # Transmitter z = 0\n",
    "            gam64*((x6-x)**2+(y6-y)**2)-(x4-x)**2-(y4-y)**2)\n",
    "\n",
    "def eqns147(p): # Receivers: Browning(1), Honors Dorm(4), SMBB(7)  \n",
    "    global gam41, gam17,x1, x4, x7, y1, y4, y7\n",
    "    x,y = p \n",
    "    return (gam41*((x4-x)**2+(y4-y)**2)-(x1-x)**2-(y1-y)**2, # Transmitter z = 0\n",
    "            gam17*((x1-x)**2+(y1-y)**2)-(x7-x)**2-(y7-y)**2)\n",
    "\n",
    "def equations(p):\n",
    "    global gamma01,x0,y0,z0,gamma12,x1,y1,z1,gamma20,x2,y2,z2\n",
    "    x,y,z = p\n",
    "    return  (\n",
    "            gamma01*( (x0-x)**2+(y0-y)**2+(z0)**2 ) - ( (x1-x)**2+(y1-y)**2+(z1)**2 ),\n",
    "            gamma12*( (x1-x)**2+(y1-y)**2+(z1)**2 ) - ( (x2-x)**2+(y2-y)**2+(z2)**2 ),\n",
    "            gamma20*( (x2-x)**2+(y2-y)**2+(z2)**2 ) - ( (x0-x)**2+(y0-y)**2+(z0)**2 ),\n",
    "            )"
   ]
  },
  {
   "cell_type": "code",
   "execution_count": 56,
   "metadata": {},
   "outputs": [
    {
     "name": "stdout",
     "output_type": "stream",
     "text": [
      "TESTING FUNCTION ACCURACY:\n",
      "Middle of Mcarthy (LatLon2xyz): (-1800006.0925567073, -4491415.413097626, 4143771.7197952797)\n",
      "Middle of Mcarthy (xyz2LatLon): (40.766427000959204, -111.83922900530244, 1469.136142929935)\n",
      "Actual Lat & Lon:                 40.766427 -111.839229\n"
     ]
    }
   ],
   "source": [
    "print 'TESTING FUNCTION ACCURACY:' \n",
    "print 'Middle of Mcarthy (LatLon2xyz):', LatLon2xyz(40.766427, -111.839229, 4820) # alt = 4820 0r 5095\n",
    "print 'Middle of Mcarthy (xyz2LatLon):', xyz2LatLon(-1800006.093, -4491415.413, 4143771.720)\n",
    "print 'Actual Lat & Lon:                ', 40.766427, -111.839229"
   ]
  },
  {
   "cell_type": "code",
   "execution_count": 57,
   "metadata": {},
   "outputs": [
    {
     "name": "stdout",
     "output_type": "stream",
     "text": [
      "Honors to x,y,z (-1799890.8572994312, -4491638.316666698, 4143615.0525555364)\n",
      "BEHS to x,y,z (-1800699.6828122754, -4491523.059526394, 4143363.474797553)\n",
      "Friendship Manor to x,y,z (-1801317.9029070977, -4491524.834134788, 4143044.6757129002)\n",
      "SMBB to x,y,z (-1800153.3034144153, -4491177.667941626, 4143998.6939013368)\n",
      "South Medical to x,y,z (-1799379.5551803843, -4491648.915125422, 4143907.3021198343)\n",
      "Browning to x,y,z (-1800661.394556309, -4491164.048953772, 4143754.4046690445)\n",
      "MEB to x,y,z (-1800374.0993862893, -4491092.977729248, 4143948.3769221506)\n",
      "Dentistry to x,y,z (-1799654.0608792347, -4492289.352614197, 4143002.589557961)\n"
     ]
    }
   ],
   "source": [
    "############## RECEIVER DICTIONARY \n",
    "# Receive Tower Dictionary for Lat, Lon & Elevation respectively. Elevation is in feet.\n",
    "receivers = { \n",
    "    'Honors': (40.7643944, -111.8369806, 4822.0 + 70.0), # Building Height: 70ft\n",
    "    'BEHS': (40.7615389, -111.8463778, 4681.0 + 154.0), # Building Height: 154ft\n",
    "    'FriendshipManor': (40.7580028, -111.8531639, 4572.0 + 156.0), # Building Height: 156ft\n",
    "    'SMBB': (40.7689500, -111.8418944, 4822.0 + 72.0), # Building Height: 72ft\n",
    "    'SouthMedical': (40.7674472, -111.8313139, 4947.0 + 123.0), # Building Height: 123ft\n",
    "    'Browning': (40.7662472, -111.8475389, 4711.0 + 98.0), # Building Height: 98ft\n",
    "    'MEB': (40.7685861, -111.8446944, 4753.0 + 42.0), # Building Height: 42ft\n",
    "    'Dentistry': (40.7571833, -111.8315111, 4810.0 + 53.0), # Building Height: 53ft\n",
    "}\n",
    "\n",
    "# Receive Tower Dictionary for x,y,z coordinates with respect to center of earth, all units are in meters.\n",
    "receiversXyz = {\n",
    "    k:LatLon2xyz(v[0],v[1],v[2]) for k,v in receivers.items()   \n",
    "}\n",
    "\n",
    "print 'Honors to x,y,z', receiversXyz['Honors']\n",
    "print 'BEHS to x,y,z', receiversXyz['BEHS']\n",
    "print 'Friendship Manor to x,y,z', receiversXyz['FriendshipManor']\n",
    "print 'SMBB to x,y,z', receiversXyz['SMBB']\n",
    "print 'South Medical to x,y,z', receiversXyz['SouthMedical']\n",
    "print 'Browning to x,y,z', receiversXyz['Browning']\n",
    "print 'MEB to x,y,z', receiversXyz['MEB']\n",
    "print 'Dentistry to x,y,z', receiversXyz['Dentistry']"
   ]
  },
  {
   "cell_type": "code",
   "execution_count": 58,
   "metadata": {},
   "outputs": [
    {
     "name": "stdout",
     "output_type": "stream",
     "text": [
      "Tx LegBridge to x,y,z: (-1799885.5541569984, -4491585.259124885, 4143665.132901002)\n",
      "Tx MechBridge to x,y,z: (-1800597.74447466, -4491080.158767237, 4143843.2505026623)\n",
      "Tx PrimaryChildrens to x,y,z: (-1799979.9003774368, -4491208.178413338, 4144012.661371927)\n",
      "Tx PrimaryChildrens2 to x,y,z: (-1799972.6012738836, -4491217.4332348695, 4144005.84746301)\n",
      "Tx Beh to x,y,z: (-1800688.077276434, -4491479.086809377, 4143343.941354111)\n",
      "Tx Honors to x,y,z: (-1799885.7860036024, -4491658.038145513, 4143562.8624167424)\n",
      "Tx Browning x,y,z: (-1800617.3850861886, -4491136.862529023, 4143756.924085776)\n",
      "Tx MebParkingLot to x,y,z: (-1800505.002348855, -4490998.839380562, 4143972.2196778487)\n",
      "Tx McarthyField to x,y,z: (-1800010.4871678173, -4491418.887078086, 4143766.0833660387)\n",
      "---------------------------------------------------------\n"
     ]
    }
   ],
   "source": [
    "############## TRANSMIT DICTIONARY \n",
    "# Transmit Locations in Lat & Lon\n",
    "transmit = { \n",
    "    'LegBridge': (40.765037, -111.837156, 4872.0), # 4872 ft in elevation\n",
    "    'MechBridge': (40.767450, -111.847209, 4747.0), # 4747 ft in elevation\n",
    "    'PrimaryChildrens': (40.769258, -111.839854, 4834.0), # 4834 ft in elevation\n",
    "    'PrimaryChildrens2': (40.769177, -111.839733, 4834.0),  # 4834 ft in elevation\n",
    "    'Beh': (40.761671,-111.846444, 4681.0), \n",
    "    'Honors': (40.763942,-111.836838, 4821.0), # 4821 ft in elevation \n",
    "    'Browning': (40.766509, -111.847175, 4711.0),\n",
    "    'MebParkingLot': (40.768976, -111.846548, 4750.0), \n",
    "    'McarthyField': (40.766360, -111.839262, 4820.0),\n",
    "    'McarthyCenter': (40.766613, -111.839217, 4820.0),\n",
    "} \n",
    "\n",
    "# Transmit Locations converted from Lat & Lon to x,y,z \n",
    "transmitXYZ = {  \n",
    "    k:LatLon2xyz(v[0],v[1],v[2]) for k,v in transmit.items()\n",
    "}  \n",
    "\n",
    "#transmitRot = { \n",
    "    #lat, lon, _ = transmit['Honors']\n",
    "    #x, y, z = transmitXYZ['Honors']\n",
    "    #a:rotXYZ(lat[0], lon[1], x[0], y[1], z[2]) for a,b,c\n",
    "#}\n",
    "\n",
    "print 'Tx LegBridge to x,y,z:', transmitXYZ['LegBridge']\n",
    "print 'Tx MechBridge to x,y,z:', transmitXYZ['MechBridge']\n",
    "print 'Tx PrimaryChildrens to x,y,z:', transmitXYZ['PrimaryChildrens']\n",
    "print 'Tx PrimaryChildrens2 to x,y,z:', transmitXYZ['PrimaryChildrens2']\n",
    "print 'Tx Beh to x,y,z:', transmitXYZ['Beh']\n",
    "print 'Tx Honors to x,y,z:', transmitXYZ['Honors']\n",
    "print 'Tx Browning x,y,z:', transmitXYZ['Browning']\n",
    "print 'Tx MebParkingLot to x,y,z:', transmitXYZ['MebParkingLot']\n",
    "print 'Tx McarthyField to x,y,z:', transmitXYZ['McarthyField']\n",
    "print '---------------------------------------------------------'"
   ]
  },
  {
   "cell_type": "code",
   "execution_count": 59,
   "metadata": {},
   "outputs": [
    {
     "name": "stdout",
     "output_type": "stream",
     "text": [
      "_________________________________________________________\n",
      "Calculated Ratio using x,y,z numbers with units of meters\n",
      "Ratio between SMBB and Medical Tower 5.99087891003\n",
      "Ratio between SMBB and Honors 0.150831166087\n",
      "Ratio between Honors and Browning 7.35969086386\n",
      "Ratio between SMBB and Browning 0.150369168149\n"
     ]
    }
   ],
   "source": [
    "################## RATIOS\n",
    "# Receive Tower (fixed) Coordinates in meters \n",
    "\n",
    "x0, y0, z0 = receiversXyz['BEHS'] \n",
    "x1, y1, z1 = receiversXyz['Browning'] \n",
    "x2, y2, z2 = receiversXyz['Dentistry']\n",
    "x3, y3, z3 = receiversXyz['FriendshipManor']  \n",
    "x4, y4, z4 = receiversXyz['Honors']   \n",
    "x5, y5, z5 = receiversXyz['MEB'] \n",
    "x6, y6, z6 = receiversXyz['SouthMedical'] \n",
    "x7, y7, z7 = receiversXyz['SMBB'] \n",
    "\n",
    "#  'TxPrimaryChildrens2': LatLon2xyz(40.769177, -111.839733, 4834.0),  # 4834 ft in elevation\n",
    "\n",
    "xTran, yTran, zTran = transmitXYZ['McarthyCenter'] # Center of McCarthy Track & Field\n",
    "# This dictionary stores calculated distances between each receiver and a transmit location \n",
    "# of choice simply change transmit locations by changing xTran, yTran, zTran above^\n",
    "\n",
    "tXrXDist = {\n",
    "    'BEHS': R(xTran, yTran, zTran, x0, y0, z0), \n",
    "    'Browning': R(xTran, yTran, zTran, x1, y1, z1),\n",
    "    'Dentistry': R(xTran, yTran, zTran, x2, y2, z2),\n",
    "    'FriendshipManor': R(xTran, yTran, zTran, x3, y3, z3),\n",
    "    'Honors': R(xTran, yTran, zTran, x4, y4, z4),\n",
    "    'MEB': R(xTran, yTran, zTran, x5, y5, z5),\n",
    "    'SouthMedical': R(xTran, yTran, zTran, x6, y6, z6),\n",
    "    'SMBB': R(xTran, yTran, zTran, x7, y7, z7),\n",
    "}\n",
    "\n",
    "print '_________________________________________________________'\n",
    "print 'Calculated Ratio using x,y,z numbers with units of meters'\n",
    "gam76 = (tXrXDist['SouthMedical']**2)/(tXrXDist['SMBB']**2)\n",
    "print 'Ratio between SMBB and Medical Tower', gam76\n",
    "gam64 = (tXrXDist['Honors']**2)/(tXrXDist['SouthMedical']**2)\n",
    "print 'Ratio between SMBB and Honors', gam64\n",
    "gam41 = (tXrXDist['Browning']**2)/(tXrXDist['Honors']**2)\n",
    "print 'Ratio between Honors and Browning', gam41\n",
    "gam17 = (tXrXDist['SMBB']**2)/(tXrXDist['Browning']**2)\n",
    "print 'Ratio between SMBB and Browning', gam17"
   ]
  },
  {
   "cell_type": "code",
   "execution_count": 60,
   "metadata": {},
   "outputs": [
    {
     "name": "stdout",
     "output_type": "stream",
     "text": [
      "Transmit Location (x,y) m: (40.766467871576914, -111.839217, 1455.237851568663)\n",
      "Compare to Actual (x,y) m:   40.766427 -111.839229\n",
      "Error in meters: 4.65572526521\n"
     ]
    },
    {
     "data": {
      "image/png": "[encoded data removed]",
      "text/plain": [
       "<Figure size 432x288 with 1 Axes>"
      ]
     },
     "metadata": {
      "needs_background": "light"
     },
     "output_type": "display_data"
    },
    {
     "data": {
      "image/png": "[encoded data removed]",
      "text/plain": [
       "<Figure size 432x288 with 1 Axes>"
      ]
     },
     "metadata": {
      "needs_background": "light"
     },
     "output_type": "display_data"
    }
   ],
   "source": [
    "############ PLOTTING\n",
    "# The average x,y for all transmit and receive locations are: x = -1800251.376, y = -4491402.466\n",
    "# Crude x,y numbers are: -1799900.0, -4491300.0\n",
    "x,y = fsolve(eqn467, (xTran, yTran)) # These are the Actual x,y\n",
    "print 'Transmit Location (x,y) m:', xyz2LatLon(x, y, 4143766.083) # Computed Tx site\n",
    "print 'Compare to Actual (x,y) m:  ', 40.7664270, -111.8392290      # Actual Tx site\n",
    "\n",
    "print 'Error in meters:', haverDist2(xyz2LatLon(x, y, 4143766.083),  (40.7664270, -111.8392290, 0.0))\n",
    "pylab.figure()\n",
    "pylab.plot([x4,x6,x7], [y4,y6,y7], 'bo', markersize=8.0, label='Receive Antenna')\n",
    "pylab.plot([x], [y], 'rx', markersize=8.0, label='Transmitter')\n",
    "pylab.xlabel('x [m]')\n",
    "pylab.ylabel('y [m]')\n",
    "pylab.title('(X, Y) Birds Eye View')\n",
    "pylab.legend()\n",
    "pylab.grid()\n",
    "pylab.show()\n",
    "\n",
    "pylab.figure()\n",
    "pylab.plot([0,3,9], [72,123,70], 'bo', markersize=8.0, label='Receive Antenna')\n",
    "axes = plt.gca()\n",
    "axes.set_xlim([-1,10])\n",
    "axes.set_ylim([-8,130])\n",
    "pylab.plot([4], [0], 'rx', markersize=8.0, label='Transmitter')\n",
    "pylab.xlabel('x (not to scale)')\n",
    "pylab.ylabel('z [ft.]')\n",
    "pylab.title('(X, Z) Urban View')\n",
    "pylab.legend()\n",
    "pylab.grid()\n",
    "pylab.show()\n",
    "# Transmit Location (x,y) m: (40.76635999829721, -111.83926199849944, 1469.1356117951823)\n",
    "# Compare to Actual (x,y) m:   40.766427 -111.839229\n",
    "# Error in meters using 3 decimals: 7.95168896616\n"
   ]
  },
  {
   "cell_type": "code",
   "execution_count": 66,
   "metadata": {
    "scrolled": false
   },
   "outputs": [
    {
     "data": {
      "image/png": "[encoded data removed]",
      "text/plain": [
       "<Figure size 720x720 with 1 Axes>"
      ]
     },
     "metadata": {
      "needs_background": "light"
     },
     "output_type": "display_data"
    },
    {
     "name": "stdout",
     "output_type": "stream",
     "text": [
      "___________________________________________________________________________________________________\n"
     ]
    }
   ],
   "source": [
    "pylab.figure(figsize=(10,10))\n",
    "pylab.plot([x4,x6,x7],[y4,y6,y7],'bo',markersize=9.0,label='Receive Antenna')\n",
    "pylab.title('Monte Carlo Power and Position Errors')\n",
    "pylab.xlabel('x (m)')\n",
    "pylab.ylabel('y (m)')\n",
    "pylab.grid()\n",
    "pylab.axis('equal') \n",
    "\n",
    "x0, y0, z0 = receiversXyz['BEHS'] \n",
    "x1, y1, z1 = receiversXyz['Browning'] \n",
    "x2, y2, z2 = receiversXyz['Dentistry']\n",
    "x3, y3, z3 = receiversXyz['FriendshipManor']  \n",
    "x4, y4, z4 = receiversXyz['Honors']   \n",
    "x5, y5, z5 = receiversXyz['MEB'] \n",
    "x6, y6, z6 = receiversXyz['SouthMedical'] \n",
    "x7, y7, z7 = receiversXyz['SMBB'] \n",
    "\n",
    "def eqn467Err0(p): # Receivers: Honors Dorm(4), South Medical Tower(6), SMBB(7)\n",
    "    global x_4, x_6, x_7, y_4, y_6, y_7\n",
    "    p = x,y \n",
    "    return((gam_76)*((x_7-x)**2+(y_7-y)**2)-(x_6-x)**2-(y_6-y)**2,\n",
    "           (gam_64)*((x_6-x)**2+(y_6-y)**2)-(x_4-x)**2-(y_4-y)**2)\n",
    "\n",
    "p4L=[]; p6L=[]; p7L=[]\n",
    "xList=[]; yList=[]\n",
    "x_4 = x4; x_6 = x6; x_7 = x7\n",
    "y_4 = y4; y_6 = y6; y_7 = y7\n",
    "for i in range(0,700):  \n",
    "    Err = np.random.uniform(0,i) #numpy.random.normal(0.0, i)\n",
    "    p4 = (1/(tXrXDist['Honors']**2)) + Err # Power ratio between Tx and Honors Dorm\n",
    "    p4L.append(p4)\n",
    "    p6 = (1/(tXrXDist['SouthMedical']**2)) + Err # Power ratio between Tx and South Medical Tower\n",
    "    p6L.append(p6)\n",
    "    p7 = (1/(tXrXDist['SMBB']**2)) + Err # Power ratio between Tx and SMBB\n",
    "    p6L.append(p7)\n",
    "    gam_64 = p6/p4 \n",
    "    gam_76 = p7/p6\n",
    "    \n",
    "    xT = xTran + numpy.random.normal(0.0, i) \n",
    "    yT = yTran + numpy.random.normal(0.0, i)\n",
    "    x, y = fsolve(eqn467Err0, (xT, yT))\n",
    "    xList.append(x) # You can multiply xErr & yErr by 1e-3 to get [km] \n",
    "    yList.append(y)\n",
    "    pylab.plot([x],[y],'rx',markersize=3.0,label='Transmitter')\n",
    "    #print '(', Err, ')', 'x =',xList[i],',', 'y =',yList[i],',', p4L[i],',', p6L[i]\n",
    "pylab.show()\n",
    "\n",
    "print '___________________________________________________________________________________________________'\n",
    "#print xList3\n",
    "\n",
    "# Correct x,y location: -1800000.1333665086 -4491403.267783278"
   ]
  },
  {
   "cell_type": "code",
   "execution_count": 64,
   "metadata": {
    "scrolled": false
   },
   "outputs": [
    {
     "data": {
      "image/png": "[encoded data removed]",
      "text/plain": [
       "<Figure size 720x720 with 1 Axes>"
      ]
     },
     "metadata": {
      "needs_background": "light"
     },
     "output_type": "display_data"
    }
   ],
   "source": [
    "pylab.figure(figsize=(10,10))\n",
    "pylab.plot([x4,x6,x7],[y4,y6,y7],'bo',markersize=9.0,label='Receive Antenna')\n",
    "pylab.title('Monte Carlo Power and Position Errors')\n",
    "pylab.xlabel('x (m)')\n",
    "pylab.ylabel('y (m)')\n",
    "pylab.grid()\n",
    "pylab.axis('equal') \n",
    "\n",
    "gam1=[]; gam2=[]\n",
    "gam1L=[]; gam2L=[]\n",
    "xListx=[]; yListy=[]\n",
    "p4L=[]; p6L=[]; p7L=[]\n",
    "for k in range(0,100):  \n",
    "    distErr = np.random.normal(0.0, k)\n",
    "    xTx = xTran + distErr #+ distErr #numpy.random.normal(0.0, distErr)\n",
    "    yTx = yTran + distErr #+ distErr #numpy.random.normal(0.0, distErr)\n",
    "    \n",
    "    def eqn467Err(pM): # Receivers: Honors Dorm(4), South Medical Tower(6), SMBB(7)\n",
    "        global gam_76, gam_64, x_4, x_6, x_7, y_4, y_6, y_7\n",
    "        xM,yM = pM \n",
    "        xM = (gam_76)*((x_7-x)**2+(y_7-y)**2)-(x_6-x)**2-(y_6-y)**2\n",
    "        yM = (gam_64)*((x_6-x)**2+(y_6-y)**2)-(x_4-x)**2-(y_4-y)**2\n",
    "        \n",
    "        p_4 = (1/(tXrXDist['Honors']**2)) + distErr #numpy.random.normal(0.0, distErr) # Power ratio between Tx and Honors Dorm\n",
    "        p4L.append(p_4)\n",
    "        p_6 = (1/(tXrXDist['SouthMedical']**2)) + distErr #numpy.random.normal(0.0, distErr) # Power ratio between Tx and South Medical Tower\n",
    "        p6L.append(p_6)\n",
    "        p_7 = (1/(tXrXDist['SMBB']**2)) + distErr #numpy.random.normal(0.0, distErr) # Power ratio between Tx and SMBB\n",
    "        p7L.append(p_7)\n",
    "        gam_64 = p6/p4\n",
    "        gam_76 = p7/p6\n",
    "        gam1.append(gam_64)\n",
    "        gam2.append(gam_76)\n",
    "        return(xM,yM)\n",
    "    xM, yM = fsolve(eqn467Err, (xTx, yTx)) \n",
    "    gam1L.append(math.sqrt(gam_64**2))\n",
    "    gam2L.append(math.sqrt(gam_76**2))\n",
    "    xListx.append(xM) # You can multiply xErr & yErr by 1e-3 to get [km] \n",
    "    yListy.append(yM)\n",
    "    #print '(', distErr, ')', 'x =',xListx[k],',', 'y =',yListy[k],',', p4L[k],',', p6L[k]\n",
    "    pylab.plot([xM],[yM],'rx',markersize=4.0,label='Transmitter')\n",
    "pylab.show()  "
   ]
  },
  {
   "cell_type": "code",
   "execution_count": null,
   "metadata": {},
   "outputs": [],
   "source": []
  },
  {
   "cell_type": "code",
   "execution_count": null,
   "metadata": {},
   "outputs": [],
   "source": []
  }
 ],
 "metadata": {
  "kernelspec": {
   "display_name": "Python 2",
   "language": "python",
   "name": "python2"
  },
  "language_info": {
   "codemirror_mode": {
    "name": "ipython",
    "version": 2
   },
   "file_extension": ".py",
   "mimetype": "text/x-python",
   "name": "python",
   "nbconvert_exporter": "python",
   "pygments_lexer": "ipython2",
   "version": "2.7.15+"
  }
 },
 "nbformat": 4,
 "nbformat_minor": 2
}
