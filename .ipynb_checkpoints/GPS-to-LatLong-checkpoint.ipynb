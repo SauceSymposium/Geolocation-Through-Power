{
 "cells": [
  {
   "cell_type": "code",
   "execution_count": 4,
   "metadata": {},
   "outputs": [
    {
     "name": "stdout",
     "output_type": "stream",
     "text": [
      "('Decimal Conversion:', '40.000000')\n"
     ]
    }
   ],
   "source": [
    "import math \n",
    "\n",
    "def GpsToDec(deg, min, sec):\n",
    "    D = deg + min/60 + sec/3600\n",
    "    return D\n",
    "\n",
    "lat1 = GpsToDec(40, 45, 46)\n",
    "\n",
    "print('Decimal Conversion:', '%.6f'%(lat1))"
   ]
  },
  {
   "cell_type": "code",
   "execution_count": null,
   "metadata": {},
   "outputs": [],
   "source": []
  }
 ],
 "metadata": {
  "kernelspec": {
   "display_name": "Python 2",
   "language": "python",
   "name": "python2"
  },
  "language_info": {
   "codemirror_mode": {
    "name": "ipython",
    "version": 2
   },
   "file_extension": ".py",
   "mimetype": "text/x-python",
   "name": "python",
   "nbconvert_exporter": "python",
   "pygments_lexer": "ipython2",
   "version": "2.7.15+"
  }
 },
 "nbformat": 4,
 "nbformat_minor": 2
}
