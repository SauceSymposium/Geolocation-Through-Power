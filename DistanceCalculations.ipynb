{
 "cells": [
  {
   "cell_type": "code",
   "execution_count": 44,
   "metadata": {},
   "outputs": [
    {
     "name": "stdout",
     "output_type": "stream",
     "text": [
      "Populating the interactive namespace from numpy and matplotlib\n"
     ]
    }
   ],
   "source": [
    "import math\n",
    "import scipy.stats as stats\n",
    "%pylab inline\n",
    "import pylab, sys\n",
    "from scipy.optimize import fsolve\n",
    "from random import random\n",
    "import numpy as np\n",
    "from matplotlib import pyplot as plt"
   ]
  },
  {
   "cell_type": "code",
   "execution_count": 45,
   "metadata": {},
   "outputs": [],
   "source": [
    "def std_dev(a_list): # Computes the Standard Deviation, taken from Alex Orange\n",
    "    mean = sum(a_list)/len(a_list)\n",
    "    return math.sqrt(sum([(_-mean)**2 for _ in a_list])/(len(a_list)-1))\n",
    "\n",
    "def f2M(x): # converts feet to meters \n",
    "    Meter = x/(3.28084)\n",
    "    return Meter\n",
    "\n",
    "def m2Km(x): #Convert meters to kilometers \n",
    "    km = 0.001*x\n",
    "    return km\n",
    "\n",
    "def gps2Dec(degrees, minutes, seconds): # Converts GPS coordinates to Lat and Long in decimal\n",
    "    D = float(degrees) + float(minutes)/60 + float(seconds)/(60*60)\n",
    "    return D"
   ]
  },
  {
   "cell_type": "code",
   "execution_count": 46,
   "metadata": {},
   "outputs": [],
   "source": [
    "# Uses the Haversine formula to calculate the distance (in meters) between \n",
    "# two points given their longitude and latitude in decimal format.\n",
    "# The Haversine function is defined as: hav(theta) = sin^2(theta/2)\n",
    "# From: https://en.wikipedia.org/wiki/Haversine_formula\n",
    "# & https://rosettacode.org/wiki/Haversine_formula#Python\n",
    "def haverDist(lat1, long1, lat2, long2):\n",
    "    R      = 6.371009e6 # Earths Radius (m) or 6371.009 (km) or 3958.7613 (miles)\n",
    "    Long1  = math.radians(long1)\n",
    "    Lat1   = math.radians(lat1)\n",
    "    Long2  = math.radians(long2)\n",
    "    Lat2   = math.radians(lat2)\n",
    "    dLat   = Lat2 - Lat1\n",
    "    dLong  = Long2 - Long1 \n",
    "    eqn1   = math.sin(dLat/2)**2 + math.cos(Lat1)*math.cos(Lat2)*math.sin(dLong/2)**2\n",
    "    HavDis = R*2*math.atan2(math.sqrt(eqn1), math.sqrt(1-eqn1)) # atan2(y,x) = atan(y/x)\n",
    "    return HavDis\n",
    "\n",
    "def haverDist2(transmit1, transmit2):\n",
    "    lat1, long1, _ = transmit1\n",
    "    lat2, long2, _ = transmit2\n",
    "    return haverDist(lat1, long1, lat2, long2)"
   ]
  },
  {
   "cell_type": "code",
   "execution_count": 47,
   "metadata": {},
   "outputs": [],
   "source": [
    "# Convert Lat, Lon, Altitude to Earth-Centered-Earth-Fixed (ECEF)\n",
    "# Returns x, y, z in meters. Assumes the elevation to be in feet and then converts it to meters.\n",
    "# SOURCE: http://danceswithcode.net/engineeringnotes/geodetic_to_ecef/geodetic_to_ecef.html\n",
    "# TEST ACCURACY: https://www.oc.nps.edu/oc2902w/coord/llhxyz.htm?source=post_page---------------------------\n",
    "def LatLon2xyz(lat, lon, alt):\n",
    "    alt   = alt/(3.28084)            # Convert elevation from feet to meters\n",
    "    lat   = math.radians(lat)                # Convert degrees to radians\n",
    "    lon   = math.radians(lon)                # Convert degrees to radians\n",
    "    ec    = 6.6943799901377997e-3   # WGS-84 first eccentricity squared\n",
    "    a     = 6378137.0               # WGS-84 semi-major axis\n",
    "    Erad  = 6.371009e6              # Earths radius in meters\n",
    "    n     = a/math.sqrt(1 - ec*math.sin(lat)*math.sin(lat))\n",
    "    ecefX = (n + alt)*math.cos(lat)*math.cos(lon)\n",
    "    ecefY = (n + alt)*math.cos(lat)*math.sin(lon)\n",
    "    ecefZ = (n*(1 - ec) + alt)*math.sin(lat)\n",
    "    return ecefX, ecefY, ecefZ\n",
    "\n",
    "# Use this function to convert x,y,z back to Lat, Lon, Altitude respectively\n",
    "# Assumes all x,y,z values are in meters and returns Altitude in meters\n",
    "# SOURCE: http://danceswithcode.net/engineeringnotes/geodetic_to_ecef/geodetic_to_ecef.html\n",
    "def xyz2LatLon(x, y, z):\n",
    "    a  = 6378137.0              # WGS-84 semi-major axis\n",
    "    e2 = 6.6943799901377997e-3  # WGS-84 first eccentricity squared\n",
    "    a1 = 4.2697672707157535e+4  # a1 = a*e2\n",
    "    a2 = 1.8230912546075455e+9  # a2 = a1*a1\n",
    "    a3 = 1.4291722289812413e+2  # a3 = a1*e2/2\n",
    "    a4 = 4.5577281365188637e+9  # a4 = 2.5*a2\n",
    "    a5 = 4.2840589930055659e+4  # a5 = a1+a3\n",
    "    a6 = 9.9330562000986220e-1  # a6 = 1-e2\n",
    "    w2 = x*x + y*y \n",
    "    w  = math.sqrt(w2)\n",
    "    r2 = w2 + z*z\n",
    "    r  = math.sqrt(r2)\n",
    "    Lon = math.atan2(y, x) # Lon \n",
    "    s2 = z*z/r2\n",
    "    c2 = w2/r2\n",
    "    u = a2/r\n",
    "    v = a3 - (a4/r)\n",
    "    if(c2 > 0.3):\n",
    "        s = (math.sqrt(z**2)/r)*(1.0 + c2*(a1+u+s2*v)/r) # z shouid be positive |z|\n",
    "        Lat = math.asin(s) # Lat\n",
    "        ss = s*s\n",
    "        c = math.sqrt(1.0-ss)\n",
    "    else:\n",
    "        c = (w/r)*(1.0 - s2*(a5-u-c2*v)/r)\n",
    "        Lat = math.acos(c) # Lat\n",
    "        ss = 1.0 - c*c\n",
    "        s = math.sqrt(ss)\n",
    "    rg = a/math.sqrt(1.0 - e2*ss)\n",
    "    rf = a6*rg\n",
    "    u = w - rg*c\n",
    "    v = math.sqrt(z**2) - rf*s # z shouid be positive |z|\n",
    "    f = c*u + s*v\n",
    "    m = c*v - s*u\n",
    "    p = m/((rf/(1.0 - e2*ss))+f) \n",
    "    Lat = Lat + p # Lat\n",
    "    Alt = f + m*p/2.0 # Altitude\n",
    "    if(z < 0.0):\n",
    "        Lat *= -1.0 # Lat\n",
    "    Lat = (180.0/math.pi)*Lat\n",
    "    Lon = (180.0/math.pi)*Lon\n",
    "    return Lat, Lon, Alt # Return Lat, Lon, Altitude in that order"
   ]
  },
  {
   "cell_type": "code",
   "execution_count": 48,
   "metadata": {},
   "outputs": [],
   "source": [
    "# Function that rotates axes \n",
    "# Source: https://en.wikipedia.org/wiki/Rotation_(mathematics)#Two_dimensions\n",
    "def rotXYZ(lat, lon, x, y, z):\n",
    "    lat = math.radians(lat)\n",
    "    lon = math.radians(lon)\n",
    "    xPrime = x*math.cos(-lon) - y*math.sin(-lon) # Rotate on z-axis by -lon\n",
    "    yPrime = x*math.sin(-lon) + y*math.cos(-lon)\n",
    "    x = xPrime; y = yPrime # This is the returned x & y\n",
    "    \n",
    "    xPrime = x*math.cos(-lat) - z*math.sin(-lat) # Rotate on y-axis by -lat\n",
    "    zPrime = x*math.sin(-lat) + z*math.cos(-lat)\n",
    "    x = xPrime; z = zPrime # This is the returned x & z\n",
    "    \n",
    "    xPrime = x*math.cos(math.pi/2) - z*math.sin(math.pi/2) # Lastly rotate on y-axis by 90 deg\n",
    "    zPrime = x*math.sin(math.pi/2) + z*math.cos(math.pi/2)\n",
    "    x = xPrime; z = zPrime # These are the returned x & z\n",
    "    return x, y, z\n",
    "\n",
    "def rotXYZ2(a, b):\n",
    "    lat, lon = a\n",
    "    x, y, z = b\n",
    "    lat = math.radians(lat)\n",
    "    lon = math.radians(lon)\n",
    "    xPrime = x*math.cos(-lon) - y*math.sin(-lon) # Rotate on z-axis by -lon\n",
    "    yPrime = x*math.sin(-lon) + y*math.cos(-lon)\n",
    "    x = xPrime; y = yPrime # This is the returned x & y\n",
    "    \n",
    "    xPrime = x*math.cos(-lat) - z*math.sin(-lat) # Rotate on y-axis by -lat\n",
    "    zPrime = x*math.sin(-lat) + z*math.cos(-lat)\n",
    "    x = xPrime; z = zPrime # This is the returned x & z\n",
    "    \n",
    "    xPrime = x*math.cos(math.pi/2) - z*math.sin(math.pi/2) # Lastly rotate on y-axis by 90 deg\n",
    "    zPrime = x*math.sin(math.pi/2) + z*math.cos(math.pi/2)\n",
    "    x = xPrime; z = zPrime # These are the returned x & z\n",
    "    return x, y, z\n",
    "\n",
    "# Uses the distance formula to solve for the distance between the Receiver & Transmitter with  \n",
    "# the purpose of using these distances to find ratios. Assumes that all inputs are in the \n",
    "# x,y,z format and the units are in meters.\n",
    "def R(xTran, yTran, zTran, xRec, yRec, zRec):\n",
    "    # Cartesian Distance Formula for 3-Dimensions\n",
    "    R = math.sqrt((xTran - (xRec))**2 + (yTran - (yRec))**2) # + (zTran - (zRec))**2)\n",
    "    return R"
   ]
  },
  {
   "cell_type": "code",
   "execution_count": 49,
   "metadata": {},
   "outputs": [],
   "source": [
    "# Modified function originally written by David DeTienne 801-209-0802, david.detienne@raytheon.\n",
    "def eqn467(p): # Receivers: Honors Dorm(4), South Medical Tower(6), SMBB(7)\n",
    "    global gam76, gam64, x4, x6, x7, y4, y6, y7\n",
    "    x,y = p \n",
    "    return (gam76*((x7-x)**2+(y7-y)**2)-(x6-x)**2-(y6-y)**2, # Transmitter z = 0\n",
    "            gam64*((x6-x)**2+(y6-y)**2)-(x4-x)**2-(y4-y)**2)\n",
    "\n",
    "def equations(p):\n",
    "    global gamma01,x0,y0,z0,gamma12,x1,y1,z1,gamma20,x2,y2,z2\n",
    "    x,y,z = p\n",
    "    return  (\n",
    "            gamma01*( (x0-x)**2+(y0-y)**2+(z0)**2 ) - ( (x1-x)**2+(y1-y)**2+(z1)**2 ),\n",
    "            gamma12*( (x1-x)**2+(y1-y)**2+(z1)**2 ) - ( (x2-x)**2+(y2-y)**2+(z2)**2 ),\n",
    "            gamma20*( (x2-x)**2+(y2-y)**2+(z2)**2 ) - ( (x0-x)**2+(y0-y)**2+(z0)**2 ),\n",
    "            )"
   ]
  },
  {
   "cell_type": "code",
   "execution_count": 50,
   "metadata": {},
   "outputs": [],
   "source": [
    "# Transmit locations in lat, lon & elevation respectively. Elevation is in feet\n",
    "transmit = { \n",
    "    'LegBridge': (40.765037, -111.837156, 4872.0), # 4872 ft in elevation\n",
    "    'MechBridge': (40.767450, -111.847209, 4747.0), # 4747 ft in elevation\n",
    "    'PrimaryChildrens': (40.769258, -111.839854, 4834.0), # 4834 ft in elevation\n",
    "    'PrimaryChildrens2': (40.769177, -111.839733, 4834.0),  # 4834 ft in elevation\n",
    "    'Beh': (40.761671,-111.846444, 4681.0), \n",
    "    'Honors': (40.763942,-111.836838, 4821.0), # 4821 ft in elevation \n",
    "    'Browning': (40.766509, -111.847175, 4711.0),\n",
    "    'MebParkingLot': (40.768976, -111.846548, 4750.0), \n",
    "    'McarthyField': (40.766360, -111.839262, 4820.0),\n",
    "    'McarthyCenter': (40.766401, -111.839234, 4820.0),\n",
    "} \n",
    "\n",
    "#transmit2 = {\n",
    "#    #'McarthyCenter': (40.766401, -111.839234)\n",
    "#     k:transmit(v[0],v[1]) for k,v in transmit.items()\n",
    "#}\n",
    "\n",
    "# Receive locations in lat, lon & elevation respectively. Elevation is in feet\n",
    "receivers = { \n",
    "    'Honors': (40.7643944, -111.8369806, 4822.0 + 70.0), # Building Height: 70ft\n",
    "    'BEHS': (40.7615389, -111.8463778, 4681.0 + 154.0), # Building Height: 154ft\n",
    "    'FriendshipManor': (40.7580028, -111.8531639, 4572.0 + 156.0), # Building Height: 156ft\n",
    "    'SMBB': (40.7689500, -111.8418944, 4822.0 + 72.0), # Building Height: 72ft\n",
    "    'SouthMedical': (40.7674472, -111.8313139, 4947.0 + 123.0), # Building Height: 123ft\n",
    "    'Browning': (40.7662472, -111.8475389, 4711.0 + 98.0), # Building Height: 98ft\n",
    "    'MEB': (40.7685861, -111.8446944, 4753.0 + 42.0), # Building Height: 42ft\n",
    "    'Dentistry': (40.7571833, -111.8315111, 4810.0 + 53.0), # Building Height: 53ft\n",
    "}\n",
    "\n",
    "# Transmit locations converted from Lat & Lon to x,y,z all units are in meters\n",
    "transmitXYZ = {  \n",
    "    k:LatLon2xyz(v[0],v[1],v[2]) for k,v in transmit.items()\n",
    "}  \n",
    "\n",
    "# Receive locations converted from Lat & Lon to x,y,z all units are in meters \n",
    "receiversXyz = {\n",
    "    k:LatLon2xyz(v[0],v[1],v[2]) for k,v in receivers.items()   \n",
    "}"
   ]
  },
  {
   "cell_type": "code",
   "execution_count": 51,
   "metadata": {},
   "outputs": [],
   "source": [
    "# Fixed receive tower coordinates in meters \n",
    "x0, y0, z0 = receiversXyz['BEHS'] \n",
    "x1, y1, z1 = receiversXyz['Browning'] \n",
    "x2, y2, z2 = receiversXyz['Dentistry']\n",
    "x3, y3, z3 = receiversXyz['FriendshipManor']  \n",
    "x4, y4, z4 = receiversXyz['Honors']   \n",
    "x5, y5, z5 = receiversXyz['MEB'] \n",
    "x6, y6, z6 = receiversXyz['SouthMedical'] \n",
    "x7, y7, z7 = receiversXyz['SMBB'] \n",
    "\n",
    "# Fixed transmit coordinates in meters \n",
    "xTran, yTran, zTran = transmitXYZ['McarthyCenter'] # Center of McCarthy Track & Field\n",
    "xTran2, yTran2, zTran2 = transmitXYZ['PrimaryChildrens']\n",
    "xTran3, yTran3, zTran3 = transmitXYZ['LegBridge']\n",
    "xTran4, yTran4, zTran4 = transmitXYZ['MechBridge']\n",
    "#xTran5, yTran5, zTran5 = transmitXYZ['']\n",
    "\n",
    "#####################################################\n",
    "tranLat, tranLon, tranAlt = transmit['McarthyCenter'] # Transmit location in Latitude, Longitude & Altitude\n",
    "xAve, yAve, zAve = (x4+x6+x7)/3, (y4+y6+y7)/3, (z4+z6+z7)/3 # Average of the 3 receive locations\n",
    "#xAve, yAve, zAve = (x0+x1+x2+x3+x4+x5+x6+x7)/8, (y0+y1+y2+y3+y4+y5+y6+y7)/8, (z0+z1+z2+z3+z4+z5+z6+z7)/8"
   ]
  },
  {
   "cell_type": "code",
   "execution_count": 52,
   "metadata": {},
   "outputs": [
    {
     "name": "stdout",
     "output_type": "stream",
     "text": [
      "(21146.341906186582, -2.3283064365386963e-10, 6370496.94815016)\n"
     ]
    }
   ],
   "source": [
    "print rotXYZ(40.766401, -111.839234, xTran, yTran, zTran)\n",
    "#print rotXYZ2(transmit2['McarthyCenter'], transmitXYZ['McarthyCenter'])"
   ]
  },
  {
   "cell_type": "code",
   "execution_count": 53,
   "metadata": {},
   "outputs": [
    {
     "name": "stdout",
     "output_type": "stream",
     "text": [
      "gam76: 5.69354975345\n",
      "gam64: 0.1396254004\n"
     ]
    }
   ],
   "source": [
    "tXrXDist = { # Calculating the distance between the transmitter and each receiver\n",
    "    'BEHS': R(xTran, yTran, zTran, x0, y0, z0), \n",
    "    'Browning': R(xTran, yTran, zTran, x1, y1, z1),\n",
    "    'Dentistry': R(xTran, yTran, zTran, x2, y2, z2),\n",
    "    'FriendshipManor': R(xTran, yTran, zTran, x3, y3, z3),\n",
    "    'Honors': R(xTran, yTran, zTran, x4, y4, z4),\n",
    "    'MEB': R(xTran, yTran, zTran, x5, y5, z5),\n",
    "    'SouthMedical': R(xTran, yTran, zTran, x6, y6, z6),\n",
    "    'SMBB': R(xTran, yTran, zTran, x7, y7, z7),\n",
    "}\n",
    "\n",
    "# Calculating the power ratio's using approximate distances between receivers in units of meters\n",
    "gam76 = (tXrXDist['SouthMedical']**2)/(tXrXDist['SMBB']**2)# Ratio between SMBB and Medical Tower\n",
    "gam64 = (tXrXDist['Honors']**2)/(tXrXDist['SouthMedical']**2) # Ratio between SMBB and Honors\n",
    "gam41 = (tXrXDist['Browning']**2)/(tXrXDist['Honors']**2) # Ratio between Honors and Browning\n",
    "gam17 = (tXrXDist['SMBB']**2)/(tXrXDist['Browning']**2) # Ratio between SMBB and Browning\n",
    "print 'gam76:', gam76\n",
    "print 'gam64:', gam64"
   ]
  },
  {
   "cell_type": "code",
   "execution_count": 54,
   "metadata": {},
   "outputs": [
    {
     "name": "stdout",
     "output_type": "stream",
     "text": [
      "Tx MechBridge to x,y,z: (-1800597.74447466, -4491080.158767237, 4143843.2505026623)\n",
      "Tx McarthyCenter to x,y,z: (-1800007.1860178306, -4491417.006443407, 4143769.532524898)\n",
      "Dist between Mac Field and Honors: 292.91566546\n"
     ]
    }
   ],
   "source": [
    "print 'Tx MechBridge to x,y,z:', transmitXYZ['MechBridge']\n",
    "print 'Tx McarthyCenter to x,y,z:', transmitXYZ['McarthyCenter']\n",
    "# Can compare this distance with Google maps\n",
    "print 'Dist between Mac Field and Honors:', haverDist2(xyz2LatLon(x4, y4, z4), (tranLat, tranLon, 0.0))"
   ]
  },
  {
   "cell_type": "code",
   "execution_count": 55,
   "metadata": {},
   "outputs": [
    {
     "name": "stdout",
     "output_type": "stream",
     "text": [
      "(-1800007.1860178306, -4491417.006443407, -1800007.1860177307, -4491417.006443346, -1799807.9052980768, -4491488.2999112485, (9.554299322189763e-05, -1.7493526684120297e-05), 0.1396254003995667, 5.693549753454587)\n",
      "Calculated Tx (x,y): -1800007.1860177307 -4491417.006443346\n",
      "Actual Tx (x,y): -1800007.18602 -4491417.00644\n",
      "Computed Transmit Location (Lat, Lon): (40.76640100000056, -111.83923399999918, 1469.1359529174076)\n",
      "Actual Transmit Location (Lat, Lon):   40.766401 -111.839234\n",
      "---------- Error ----------\n",
      "Computed error in meters: 9.26087304972e-08\n",
      "Actual error in meters: 7.07324088189e-10\n"
     ]
    },
    {
     "data": {
      "image/png": "[encoded data removed]",
      "text/plain": [
       "<Figure size 540x396 with 1 Axes>"
      ]
     },
     "metadata": {
      "needs_background": "light"
     },
     "output_type": "display_data"
    }
   ],
   "source": [
    "### Locating the Transmitter Using Ideal Power\n",
    "\n",
    "x,y = fsolve(eqn467, (xAve, yAve)) # These are the Actual x,y\n",
    "print(xTran, yTran, x, y, xAve, yAve, eqn467((x, y)), gam64, gam76)\n",
    "print 'Calculated Tx (x,y):', x, y\n",
    "print 'Actual Tx (x,y):', xTran, yTran\n",
    "print 'Computed Transmit Location (Lat, Lon):', xyz2LatLon(x, y, zTran) # Computed Tx site\n",
    "print 'Actual Transmit Location (Lat, Lon):  ', tranLat, tranLon      # Actual Tx site\n",
    "print '---------- Error ----------'\n",
    "print 'Computed error in meters:', haverDist2(xyz2LatLon(x, y, zTran), (tranLat, tranLon, 0.0)) # Transmit z = 0.0\n",
    "print 'Actual error in meters:', haverDist2(xyz2LatLon(xTran, yTran, zTran), (tranLat, tranLon, 0.0))\n",
    "\n",
    "pylab.figure(figsize=(7.5,5.5)) \n",
    "pylab.plot([x4,x6,x7], [y4,y6,y7], 'bo', markersize=10.0, label='Receive Antenna')\n",
    "plt.text(x4,y4,'   Rx4'); plt.text(x6,y6,'Rx6   ',horizontalalignment='right'); plt.text(x7,y7,'   Rx7')\n",
    "plt.text(x,y,'   Tx')\n",
    "pylab.plot([x], [y], 'rx',mew=3.5, markersize=11.0, label='Calculated Tx')\n",
    "pylab.plot([xTran], [yTran], 'kx',mew=1.5, markersize=11.0, label='Actual Tx')\n",
    "pylab.xlabel('x [m]')\n",
    "pylab.ylabel('y [m]')\n",
    "pylab.title('Locating the Transmitter Using Ideal Power')\n",
    "pylab.legend()\n",
    "pylab.grid()\n",
    "plt.savefig('PowerGeo.svg', bbox_inches='tight')"
   ]
  },
  {
   "cell_type": "code",
   "execution_count": 56,
   "metadata": {
    "scrolled": false
   },
   "outputs": [
    {
     "name": "stdout",
     "output_type": "stream",
     "text": [
      "p4 Err: -0.609446143851 | p6 Err: 0.780118946064 | p7 Err: -1.33802308796\n",
      "x = -1799907.7770879124 y = -4491378.699840103\n",
      "The average x,y of the 3 Receivers: -1799807.9053 , -4491488.29991\n",
      "Standard Deviation: 1.4942531772\n",
      "Difference between the std_dev and the average for x,y: -1799939.4280437997 -4491368.91217093\n",
      "Difference between Esimated & Actual Tx site in meters (x,y): 99.40892991819419 , 38.30660330411047\n",
      "Total Error [m]: 91.1183544739\n"
     ]
    },
    {
     "data": {
      "image/png": "[encoded data removed]",
      "text/plain": [
       "<Figure size 540x396 with 1 Axes>"
      ]
     },
     "metadata": {
      "needs_background": "light"
     },
     "output_type": "display_data"
    }
   ],
   "source": [
    "### Monte Carlo Power and Position Errors\n",
    "\n",
    "pylab.figure(figsize=(7.5,5.5))\n",
    "pylab.plot([x4,x6,x7],[y4,y6,y7],'bo',markersize=10.0, label='Receive Antenna')\n",
    "plt.text(x4,y4,'   Rx4'); plt.text(x6,y6,'Rx6   ',horizontalalignment='right'); plt.text(x7,y7,'   Rx7')\n",
    "pylab.title('Monte Carlo Power and Position Errors')\n",
    "pylab.xlabel('x [m]')\n",
    "pylab.ylabel('y [m]')\n",
    "pylab.grid()\n",
    "pylab.axis('equal') \n",
    "\n",
    "xList=[]; yList=[]; p4N=[]; p6N=[]; p7N=[]\n",
    "p4 = 10.0*math.log10(1/(tXrXDist['Honors']**2)) \n",
    "p6 = 10.0*math.log10(1/(tXrXDist['SouthMedical']**2))\n",
    "p7 = 10.0*math.log10(1/(tXrXDist['SMBB']**2))\n",
    "stdev = 1.0 # Standard Deviation\n",
    "for k in range(0,900):  \n",
    "    \n",
    "    ## Receive power converted to dB and added Random Gaussian\n",
    "    ## error with standard deviation \n",
    "    p4_err = p4 + np.random.normal(0.0, stdev)\n",
    "    p4N.append(p4_err)\n",
    "    p6_err = p6 + np.random.normal(0.0, stdev)\n",
    "    p6N.append(p6_err)\n",
    "    p7_err = p7 + np.random.normal(0.0, stdev) \n",
    "    p7N.append(p7_err)\n",
    "\n",
    "    ## New converted Power with error\n",
    "    p4New = (10.0)**(p4_err/10.0) \n",
    "    p6New = (10.0)**(p6_err/10.0)\n",
    "    p7New = (10.0)**(p7_err/10.0)\n",
    "   \n",
    "    ## New Ratios \n",
    "    gam64 = p6New/p4New \n",
    "    gam76 = p7New/p6New\n",
    "    \n",
    "    #xAve = (x4+x6+x7)/3; yAve = (y4+y6+y7)/3\n",
    "    xMonte, yMonte = fsolve(eqn467, (xAve, yAve)) # Plot Transmit Location\n",
    "    xList.append(xMonte); yList.append(yMonte)\n",
    "    \n",
    "print 'p4 Err:', p4N[k] - p4, '|', 'p6 Err:', p6N[k] - p6, '|', 'p7 Err:', p7N[k] - p7 \n",
    "print 'x =',xList[k], 'y =',yList[k]\n",
    "print 'The average x,y of the 3 Receivers:', xAve, ',' ,yAve\n",
    "\n",
    "pylab.plot([x], [y], 'kx', mew=4.0, markersize=12.5) # Plot black 'X', the actual Tx site\n",
    "pylab.plot(xList, yList,'rx',markersize=1.0,label='Transmitter') # Plot the red dots (Error)\n",
    "plt.savefig('PowerMonteCarlo.svg',  bbox_inches='tight')\n",
    "#------------------------------------------------------------------------------------------------------------------\n",
    "\n",
    "a = [np.random.normal(0, 1.5) for _ in range(1000)]\n",
    "print 'Standard Deviation:', std_dev(a)\n",
    "\n",
    "# print 'Comparing Power Numbers ', p4, (1/(tXrXDist['Honors']**2)), 10**(p4/10.0)\n",
    "stdDevX = std_dev(xList); stdDevY = std_dev(yList) # Standard Deviation for x & y Lists\n",
    "x_Average = (sum(xList)/len(xList)); y_Average = (sum(yList)/len(yList)) # x,y Averages\n",
    "print 'Difference between the std_dev and the average for x,y:', stdDevX + x_Average, stdDevY + y_Average\n",
    "\n",
    "xDiff = xMonte - xTran; yDiff = yMonte - yTran\n",
    "print 'Difference between Esimated & Actual Tx site in meters (x,y):', xDiff, ',', yDiff\n",
    "print 'Total Error [m]:', haverDist2(xyz2LatLon(xMonte, yMonte, zTran), (tranLat, tranLon, 0.0)) # Transmit z = 0.0"
   ]
  },
  {
   "cell_type": "code",
   "execution_count": 57,
   "metadata": {
    "scrolled": false
   },
   "outputs": [
    {
     "name": "stdout",
     "output_type": "stream",
     "text": [
      "Standard Deviation: 1.509380495\n"
     ]
    },
    {
     "data": {
      "image/png": "[encoded data removed]",
      "text/plain": [
       "<Figure size 540x396 with 1 Axes>"
      ]
     },
     "metadata": {
      "needs_background": "light"
     },
     "output_type": "display_data"
    },
    {
     "name": "stdout",
     "output_type": "stream",
     "text": [
      "Averages (xList, yList): -1800005.7815417547 , -4491407.886006549\n",
      "Standard Deviations (xList, yList): 66.3534979549 , 38.973835619\n"
     ]
    }
   ],
   "source": [
    "def std_dev(a_list): # Computes the Standard Deviation, taken from Alex Orange\n",
    "    mean = sum(a_list)/len(a_list)\n",
    "    return math.sqrt(sum([(_-mean)**2 for _ in a_list])/(len(a_list)-1))\n",
    "\n",
    "def var(a_list):\n",
    "    mean = sum(a_list)/len(a_list)\n",
    "    return(math.sqrt(sum([(_-mean)**2 for _ in a_list])/(len(a_list)-1))**2)\n",
    "\n",
    "a = [np.random.normal(0, 1.5) for _ in range(1000)]\n",
    "print 'Standard Deviation:', std_dev(a)\n",
    "\n",
    "x_mu = 0 #sum(xList)/len(xList)\n",
    "x_var = var(xList)\n",
    "x_sigma = std_dev(xList)\n",
    "x_sigma_weight = 3\n",
    "xPart = np.linspace(x_mu - x_sigma_weight*x_sigma, x_mu + x_sigma_weight*x_sigma, 100)\n",
    "\n",
    "y_mu = 0 #sum(yList)/len(yList)\n",
    "y_var = var(yList)\n",
    "y_sigma = std_dev(yList)\n",
    "y_sigma_weight = 3\n",
    "yPart = np.linspace(y_mu - y_sigma_weight*y_sigma, y_mu + y_sigma_weight*y_sigma, 100)\n",
    "\n",
    "plt.figure(figsize=(7.5,5.5))\n",
    "plt.title('Standard Deviation Plot (Power)')\n",
    "plt.plot(xPart, stats.norm.pdf(xPart, x_mu, x_sigma),'b-', label='x Std. Dev.')\n",
    "plt.plot(yPart, stats.norm.pdf(yPart, y_mu, y_sigma),'r-', label='y Std. Dev.')\n",
    "plt.grid(); plt.legend(); plt.show()\n",
    "\n",
    "# print 'Comparing Power Numbers ', p4, (1/(tXrXDist['Honors']**2)), 10**(p4/10.0)\n",
    "print 'Averages (xList, yList):', (sum(xList)/len(xList)), ',', (sum(yList)/len(yList))\n",
    "print 'Standard Deviations (xList, yList):', std_dev(xList), ',', std_dev(yList)"
   ]
  },
  {
   "cell_type": "code",
   "execution_count": 58,
   "metadata": {},
   "outputs": [],
   "source": [
    "### Geolocation Through TDOA \n",
    "\n",
    "# Time Difference of Arrival  does not require the time that the signal was sent from the \n",
    "# target, only the time the signal was received and the speed that the signal travels.\n",
    "# Once the signal is received at two reference points, the difference in arrival time can be\n",
    "# used to calculate the difference in distances between the target and the two reference points.\n",
    "# https://onlinelibrary.wiley.com/doi/full/10.4218/etrij.17.0116.0554\n",
    "\n",
    "# Solve for the transmit location using TDOA \n",
    "def tdoa467(p): # Receivers: Honors Dorm(4), South Medical Tower(6), SMBB(7)\n",
    "    global t67,t74,x4,x6,x7,y4,y6,y7,c\n",
    "    #x,y = p \n",
    "    x,y = p\n",
    "    d4 = math.sqrt((x4 - x)**2 + (y4 - y)**2) \n",
    "    d6 = math.sqrt((x6 - x)**2 + (y6 - y)**2) \n",
    "    d7 = math.sqrt((x7 - x)**2 + (y7 - y)**2)\n",
    "    \n",
    "    return(t67 - ((d6/c) - d7/c), \n",
    "           t74 - ((d7/c) - d4/c))"
   ]
  },
  {
   "cell_type": "code",
   "execution_count": 59,
   "metadata": {},
   "outputs": [
    {
     "name": "stdout",
     "output_type": "stream",
     "text": [
      "-1799890.8573 -1799379.55518 -1800153.30341\n",
      "-4491638.31667 -4491648.91513 -4491177.66794\n",
      "4143615.05256 4143907.30212 4143998.6939\n",
      "Calculated Tx (x,y): -1799625.6403365459 -4491182.1279230295\n",
      "Actual Tx (x,y): -1800007.18602 -4491417.00644\n",
      "Average Tx (x,y): -1799807.9053 -4491488.29991\n",
      "Substituting the Calculated x,y back into the function: (5.935744547078548e-14, -2.5059924177694677e-14)\n",
      "Calculated Transmit Location (Lat, Lon): (40.76851713099601, -111.8360746884899, 1196.521602676061)\n",
      "Actual Transmit Location (Lat, Lon): 40.766401 -111.839234\n",
      "------====---- Error ----------\n",
      "Calculated error in meters: 355.185853899\n",
      "Actual error in meters: 7.07324088189e-10\n"
     ]
    },
    {
     "data": {
      "image/png": "[encoded data removed]",
      "text/plain": [
       "<Figure size 540x396 with 1 Axes>"
      ]
     },
     "metadata": {
      "needs_background": "light"
     },
     "output_type": "display_data"
    }
   ],
   "source": [
    "c = 299792458.0 # Speed of light [m/sec]\n",
    "#t67 = dist67/c; t74 = dist74/c\n",
    "t67=0.0; t74=0.0\n",
    "# xTran,yTran     xAve,yAve\n",
    "print x4, x6, x7\n",
    "print y4, y6, y7\n",
    "print z4, z6, z7\n",
    "\n",
    "x, y = fsolve(tdoa467, (xAve, yAve)) # These are the Actual x,y of the transmitter in meters\n",
    "print 'Calculated Tx (x,y):', x, y\n",
    "print 'Actual Tx (x,y):', xTran, yTran\n",
    "print 'Average Tx (x,y):', xAve, yAve\n",
    "\n",
    "print 'Substituting the Calculated x,y back into the function:', tdoa467((x, y)) \n",
    "print 'Calculated Transmit Location (Lat, Lon):', xyz2LatLon(x, y, zTran) # Computed Tx site\n",
    "print 'Actual Transmit Location (Lat, Lon):', tranLat, tranLon            # Actual Tx site\n",
    "print '------====---- Error ----------'\n",
    "print 'Calculated error in meters:', haverDist2(xyz2LatLon(x, y, zTran), (tranLat, tranLon, 0.0)) # Tx z = 0.0\n",
    "print 'Actual error in meters:', haverDist2(xyz2LatLon(xTran, yTran, zTran), (tranLat, tranLon, 0.0)) # Tx z = 0.0\n",
    "\n",
    "pylab.figure(figsize=(7.5,5.5))\n",
    "pylab.plot([x4,x6,x7], [y4,y6,y7], 'bo',markersize=10.0, label='Receive Antenna')\n",
    "plt.text(x4,y4,'   Rx4'); plt.text(x6,y6,'Rx6   ',horizontalalignment='right'); plt.text(x7,y7,'   Rx7')\n",
    "plt.text(x,y,'Tx   ' ,horizontalalignment='right')\n",
    "pylab.plot([x], [y], 'rx',mew=3.5, markersize=11.0, label='Calculated Tx')\n",
    "pylab.plot([xAve], [yAve], 'gx',mew=3.5, markersize=9.0, label='Average Tx')\n",
    "#pylab.plot([xTran], [yTran], 'kx',mew=1.5, markersize=11.0, label='Actual Tx')\n",
    "pylab.title('TDOA')\n",
    "pylab.xlabel('x [m]')\n",
    "pylab.ylabel('y [m]')\n",
    "pylab.grid()\n",
    "pylab.legend()\n",
    "pylab.axis('equal')\n",
    "plt.savefig('TdoaGeo.svg', bbox_inches='tight')"
   ]
  },
  {
   "cell_type": "code",
   "execution_count": 60,
   "metadata": {},
   "outputs": [
    {
     "name": "stdout",
     "output_type": "stream",
     "text": [
      "4144005.84746\n"
     ]
    }
   ],
   "source": [
    "#transmit = { \n",
    "#    'LegBridge': (40.765037, -111.837156, 4872.0), # 4872 ft in elevation\n",
    "#    'MechBridge': (40.767450, -111.847209, 4747.0), # 4747 ft in elevation\n",
    "#    'PrimaryChildrens': (40.769258, -111.839854, 4834.0), # 4834 ft in elevation\n",
    "#    'PrimaryChildrens2': (40.769177, -111.839733, 4834.0),  # 4834 ft in elevation\n",
    "#    'Beh': (40.761671,-111.846444, 4681.0), \n",
    "#    'Honors': (40.763942,-111.836838, 4821.0), # 4821 ft in elevation \n",
    "#    'Browning': (40.766509, -111.847175, 4711.0),\n",
    "#    'MebParkingLot': (40.768976, -111.846548, 4750.0), \n",
    "#    'McarthyField': (40.766360, -111.839262, 4820.0),\n",
    "#    'McarthyCenter': (40.766401, -111.839234, 4820.0),\n",
    "#} \n",
    "#list(transmit.items())[4][0]\n",
    "SQ = transmitXYZ.items()[-4][1][2]\n",
    "print SQ"
   ]
  },
  {
   "cell_type": "code",
   "execution_count": 61,
   "metadata": {},
   "outputs": [
    {
     "name": "stdout",
     "output_type": "stream",
     "text": [
      "tdoa67: 1.29652798158e-06 --- tdoa74: 1.01386707929e-07\n",
      " \n",
      "Calculated Tx (x,y): -1800007.1858904136 -4491417.006311179\n",
      "Actual Tx (x,y): -1800007.18602 -4491417.00644\n",
      " \n",
      "Calculated error in meters: 0.000130825723261\n",
      "Actual error in meters: 7.07324088189e-10\n"
     ]
    },
    {
     "data": {
      "image/png": "[encoded data removed]",
      "text/plain": [
       "<Figure size 540x396 with 1 Axes>"
      ]
     },
     "metadata": {
      "needs_background": "light"
     },
     "output_type": "display_data"
    }
   ],
   "source": [
    "xMac, yMac, zMac = transmitXYZ['McarthyCenter'] # Center of McCarthy Track & Field\n",
    "\n",
    "def d(xMac, yMac, xRec, yRec): # Cartesian Distance Formula for 2-Dimensions\n",
    "    dist = math.sqrt(((xRec) - xMac)**2 + ((yRec) - yMac)**2)\n",
    "    return dist\n",
    "            \n",
    "dist = {\n",
    "    'BEHS': d(xMac, yMac, x0, y0),            # 0\n",
    "    'Browning': d(xMac, yMac, x1, y1),        # 1\n",
    "    'Dentistry': d(xMac, yMac, x2, y2),       # 2\n",
    "    'FriendshipManor': d(xMac, yMac, x3, y3), # 3\n",
    "    'Honors': d(xMac, yMac, x4, y4),          # 4\n",
    "    'MEB': d(xMac, yMac, x5, y5),             # 5 \n",
    "    'SouthMedical': d(xMac, yMac, x6, y6),    # 6\n",
    "    'SMBB': d(xMac, yMac, x7, y7),            # 7\n",
    "}\n",
    "\n",
    "t67 = (dist['SouthMedical']/c) - (dist['SMBB']/c)\n",
    "t74 = (dist['SMBB']/c) - (dist['Honors']/c)\n",
    "print 'tdoa67:', t67, '--- tdoa74:', t74\n",
    "print ' '\n",
    "x, y = fsolve(tdoa467, (xAve, yAve)) # These are the Actual x,y of the transmitter in meters\n",
    "print 'Calculated Tx (x,y):', x, y\n",
    "print 'Actual Tx (x,y):', xTran, yTran\n",
    "print ' '\n",
    "print 'Calculated error in meters:', haverDist2(xyz2LatLon(x, y, zTran), (tranLat, tranLon, 0.0)) # Tx z = 0.0\n",
    "print 'Actual error in meters:', haverDist2(xyz2LatLon(xTran, yTran, zTran), (tranLat, tranLon, 0.0)) # Tx z = 0.0\n",
    "\n",
    "pylab.figure(figsize=(7.5,5.5))\n",
    "pylab.plot([x4,x6,x7], [y4,y6,y7], 'bo',markersize=10.0, label='Receive Antenna')\n",
    "plt.text(x4,y4,'   Rx4'); plt.text(x6,y6,'Rx6   ',horizontalalignment='right'); plt.text(x7,y7,'   Rx7')\n",
    "plt.text(x,y,'   Tx')\n",
    "pylab.plot([x], [y], 'rx',mew=3.5, markersize=11.0, label='Calculated Tx')\n",
    "pylab.plot([xTran], [yTran], 'kx',mew=1.5, markersize=11.0, label='Actual Tx')\n",
    "#pylab.plot([xTran], [yTran], 'kx',mew=1.5, markersize=11.0, label='Actual Tx')\n",
    "pylab.title('Verifying TDOA')\n",
    "pylab.xlabel('x [m]')\n",
    "pylab.ylabel('y [m]')\n",
    "pylab.grid()\n",
    "pylab.legend()\n",
    "pylab.axis('equal')\n",
    "plt.savefig('TdoaGeo.svg', bbox_inches='tight')"
   ]
  },
  {
   "cell_type": "code",
   "execution_count": 62,
   "metadata": {},
   "outputs": [
    {
     "name": "stdout",
     "output_type": "stream",
     "text": [
      "| t67_Err: 4.18533940547e-08 | t74_Err: 1.43350093436e-07 |\n",
      "x = -1800031.406736716 y = -4491455.835463998\n",
      "The average x,y of the 3 Receivers: -1799807.9053 , -4491488.29991\n",
      "Standard Deviation: 1.4635525293\n",
      "Difference between the std_dev and the average for x,y: -1799975.0739331096 -4491389.8582283575\n",
      "Difference between Esimated & Actual Tx site in meters (x,y): 24.2207188853 , 38.8290205905\n",
      "Total Error [m]: 30.5212051168\n"
     ]
    },
    {
     "data": {
      "image/png": "[encoded data removed]",
      "text/plain": [
       "<Figure size 540x396 with 1 Axes>"
      ]
     },
     "metadata": {
      "needs_background": "light"
     },
     "output_type": "display_data"
    }
   ],
   "source": [
    "# The main goal of Monte Carlo is to use repeated random sampling \n",
    "# to obtain numerical results. The most straightforward algorithm \n",
    "# for Monte Carlo can basically be broken down into the following steps:\n",
    "\n",
    "#    1) Get some random input\n",
    "#    2) Evaluate\n",
    "#    3) Repeat steps 1 and 2 as needed (To improve accuracy, more is better)\n",
    "#    4) Determine the average of all these samples and multiply by the range\n",
    "\n",
    "pylab.figure(figsize=(7.5,5.5))\n",
    "pylab.plot([x4,x6,x7],[y4,y6,y7],'bo',markersize=10.0, label='Receive Antenna')\n",
    "plt.text(x4,y4,'   Rx4');  plt.text(x6,y6,'Rx6   ',horizontalalignment='right'); plt.text(x7,y7,'   Rx7')\n",
    "pylab.title('Monte Carlo For TDOA')\n",
    "pylab.xlabel('x [m]')\n",
    "pylab.ylabel('y [m]')\n",
    "pylab.grid()\n",
    "pylab.axis('equal') \n",
    "\n",
    "xList=[]; yList=[]; r4N=[]; r6N=[]; r7N=[]; tdoa67=[]; tdoa74=[]\n",
    "t_67 = (dist['SouthMedical']/c) - (dist['SMBB']/c)\n",
    "t_74 = (dist['SMBB']/c) - (dist['Honors']/c)\n",
    "R4 = dist['Honors']\n",
    "R6 = dist['SouthMedical']\n",
    "R7 = dist['SMBB']\n",
    "\n",
    "stdev = 20.0 # Standard Deviation\n",
    "n = 500\n",
    "for k in range(0,n):  \n",
    "    \n",
    "    ## TDOA's with random Gaussian error & standard deviation \n",
    "    \n",
    "    r4_err = R4 + np.random.normal(0.0, stdev)\n",
    "    r4N.append(r4_err)\n",
    "    r6_err = R6 + np.random.normal(0.0, stdev)\n",
    "    r6N.append(r6_err)\n",
    "    r7_err = R7 + np.random.normal(0.0, stdev)\n",
    "    r7N.append(r7_err)\n",
    "    \n",
    "    t67 = (r6_err/c) - (r7_err/c)\n",
    "    tdoa67.append(t67)\n",
    "    t74 = (r7_err/c) - (r4_err/c)\n",
    "    tdoa74.append(t74)\n",
    "    \n",
    "    xMonte, yMonte = fsolve(tdoa467, (xAve, yAve)) # Plot Transmit Location\n",
    "    xList.append(xMonte); yList.append(yMonte)\n",
    "    \n",
    "    t67_Err = math.sqrt((tdoa67[k] - t_67)**2)\n",
    "    t74_Err = math.sqrt((tdoa74[k] - t_74)**2)\n",
    "print '|', 't67_Err:', t67_Err, '|', 't74_Err:', t74_Err, '|'\n",
    "print 'x =',xList[k], 'y =',yList[k] # 'x =',xList[k], 'y =',yList[k]\n",
    "print 'The average x,y of the 3 Receivers:', xAve, ',' ,yAve\n",
    "\n",
    "pylab.plot(xList, yList,'rx',markersize=1.0,label='Transmitter') # Plot the red dots (Error)\n",
    "pylab.plot([x], [y], 'kx', mew=2.0, markersize=12.5) # Plot black 'X', the actual Tx site\n",
    "plt.savefig('Tdoa_Monte_Carlo.svg',  bbox_inches='tight')\n",
    "pylab.plot([x], [y], 'kx', mew=2.0, markersize=12.5) # Plot black 'X', the actual Tx site\n",
    "#------------------------------------------------------------------------------------------------------------------\n",
    "\n",
    "a = [np.random.normal(0, 1.5) for _ in range(1000)]\n",
    "print 'Standard Deviation:', std_dev(a)\n",
    "\n",
    "# print 'Comparing Power Numbers ', p4, (1/(tXrXDist['Honors']**2)), 10**(p4/10.0)\n",
    "stdDevX = std_dev(xList); stdDevY = std_dev(yList) # Standard Deviation for x & y Lists\n",
    "x_Average = (sum(xList)/len(xList)); y_Average = (sum(yList)/len(yList)) # x,y Averages\n",
    "print 'Difference between the std_dev and the average for x,y:', stdDevX + x_Average, stdDevY + y_Average\n",
    "\n",
    "xDiff = xMonte - xTran; yDiff = yMonte - yTran\n",
    "print 'Difference between Esimated & Actual Tx site in meters (x,y):', math.sqrt(xDiff**2), ',', math.sqrt(yDiff**2)\n",
    "print 'Total Error [m]:', haverDist2(xyz2LatLon(xMonte, yMonte, zTran), (tranLat, tranLon, 0.0)) # Transmit z = 0.0"
   ]
  },
  {
   "cell_type": "code",
   "execution_count": 63,
   "metadata": {},
   "outputs": [
    {
     "data": {
      "image/png": "[encoded data removed]",
      "text/plain": [
       "<Figure size 540x396 with 1 Axes>"
      ]
     },
     "metadata": {
      "needs_background": "light"
     },
     "output_type": "display_data"
    },
    {
     "name": "stdout",
     "output_type": "stream",
     "text": [
      "Averages (xList, yList): -1800010.13291898 , -4491417.782976507\n",
      "Standard Deviations (xList, yList): 35.0589858704 , 27.92474815\n"
     ]
    }
   ],
   "source": [
    "x_mu = 0 #sum(xList)/len(xList)\n",
    "x_var = var(xList)\n",
    "x_sigma = std_dev(xList)\n",
    "x_sigma_weight = 3\n",
    "xPart = np.linspace(x_mu - x_sigma_weight*x_sigma, x_mu + x_sigma_weight*x_sigma, 100)\n",
    "\n",
    "y_mu = 0 #sum(yList)/len(yList)\n",
    "y_var = var(yList)\n",
    "y_sigma = std_dev(yList)\n",
    "y_sigma_weight = 3\n",
    "yPart = np.linspace(y_mu - y_sigma_weight*y_sigma, y_mu + y_sigma_weight*y_sigma, 100)\n",
    "\n",
    "plt.figure(figsize=(7.5,5.5))\n",
    "plt.title('Standard Deviation Plot (TDOA)')\n",
    "plt.plot(xPart, stats.norm.pdf(xPart, x_mu, x_sigma),'b-', label='x Std. Dev.')\n",
    "plt.plot(yPart, stats.norm.pdf(yPart, y_mu, y_sigma),'r-', label='y Std. Dev.')\n",
    "plt.grid(); plt.legend(); plt.show()\n",
    "\n",
    "# print 'Comparing Power Numbers ', p4, (1/(tXrXDist['Honors']**2)), 10**(p4/10.0)\n",
    "print 'Averages (xList, yList):', (sum(xList)/len(xList)), ',', (sum(yList)/len(yList))\n",
    "print 'Standard Deviations (xList, yList):', std_dev(xList), ',', std_dev(yList)"
   ]
  },
  {
   "cell_type": "code",
   "execution_count": 64,
   "metadata": {},
   "outputs": [
    {
     "name": "stdout",
     "output_type": "stream",
     "text": [
      "| t67_Err: 19.1917175038 | t74_Err: 3.20204025741 |\n",
      "x = 223957353.06661373 y = -125756389.32134362\n",
      "The average x,y of the 3 Receivers: -1799807.9053 , -4491488.29991\n",
      "Standard Deviation: 1.52493367747\n",
      "Difference between the std_dev and the average for x,y: 6060265400.67949 6866918398.500918\n",
      "Difference between Esimated & Actual Tx site in meters (x,y): 225757360.253 , 121264972.315\n",
      "Total Error [m]: 9311332.2265\n"
     ]
    },
    {
     "data": {
      "image/png": "[encoded data removed]",
      "text/plain": [
       "<Figure size 540x396 with 1 Axes>"
      ]
     },
     "metadata": {
      "needs_background": "light"
     },
     "output_type": "display_data"
    }
   ],
   "source": [
    "pylab.figure(figsize=(7.5,5.5))\n",
    "pylab.plot([x4,x6,x7],[y4,y6,y7],'bo',markersize=10.0, label='Receive Antenna')\n",
    "plt.text(x4,y4,'   Rx4');  plt.text(x6,y6,'Rx6   ',horizontalalignment='right'); plt.text(x7,y7,'   Rx7')\n",
    "pylab.title('Monte Carlo 2 For TDOA')\n",
    "pylab.xlabel('x [m]')\n",
    "pylab.ylabel('y [m]')\n",
    "pylab.grid()\n",
    "pylab.axis('equal') \n",
    "\n",
    "xList=[]; yList=[]; tdoa67=[]; tdoa74=[]\n",
    "stdev = 20 # Standard Deviation\n",
    "n = 500\n",
    "for k in range(0,n):  \n",
    "    ## TDOA's with random Gaussian error & standard deviation \n",
    "    tdoa_67 = (dist['SouthMedical']/c) - (dist['SMBB']/c)\n",
    "    tdoa_74 = (dist['SMBB']/c) - (dist['Honors']/c)\n",
    "    \n",
    "    t67 = tdoa_67 + np.random.normal(0.0, stdev)\n",
    "    tdoa67.append(t67)\n",
    "    t74 = tdoa_74 + np.random.normal(0.0, stdev)\n",
    "    tdoa74.append(t74)\n",
    "    \n",
    "    xMonte, yMonte = fsolve(tdoa467, (xAve, yAve)) # Plot Transmit Location\n",
    "    xList.append(xMonte); yList.append(yMonte)\n",
    "    \n",
    "    t67_Err = math.sqrt((tdoa67[k] - t_67)**2)\n",
    "    t74_Err = math.sqrt((tdoa74[k] - t_74)**2)\n",
    "print '|', 't67_Err:', t67_Err, '|', 't74_Err:', t74_Err, '|'\n",
    "print 'x =',xList[k], 'y =',yList[k] # 'x =',xList[k], 'y =',yList[k]\n",
    "print 'The average x,y of the 3 Receivers:', xAve, ',' ,yAve\n",
    "\n",
    "pylab.plot(xList, yList,'rx',markersize=1.0,label='Transmitter') # Plot the red dots (Error)\n",
    "pylab.plot([x], [y], 'kx', mew=2.0, markersize=12.5) # Plot black 'X', the actual Tx site\n",
    "plt.savefig('Tdoa_Monte_Carlo.svg',  bbox_inches='tight')\n",
    "pylab.plot([x], [y], 'kx', mew=2.0, markersize=12.5) # Plot black 'X', the actual Tx site\n",
    "#------------------------------------------------------------------------------------------------------------------\n",
    "\n",
    "a = [np.random.normal(0, 1.5) for _ in range(1000)]\n",
    "print 'Standard Deviation:', std_dev(a)\n",
    "\n",
    "# print 'Comparing Power Numbers ', p4, (1/(tXrXDist['Honors']**2)), 10**(p4/10.0)\n",
    "stdDevX = std_dev(xList); stdDevY = std_dev(yList) # Standard Deviation for x & y Lists\n",
    "x_Average = (sum(xList)/len(xList)); y_Average = (sum(yList)/len(yList)) # x,y Averages\n",
    "print 'Difference between the std_dev and the average for x,y:', stdDevX + x_Average, stdDevY + y_Average\n",
    "\n",
    "xDiff = xMonte - xTran; yDiff = yMonte - yTran\n",
    "print 'Difference between Esimated & Actual Tx site in meters (x,y):', math.sqrt(xDiff**2), ',', math.sqrt(yDiff**2)\n",
    "print 'Total Error [m]:', haverDist2(xyz2LatLon(xMonte, yMonte, zTran), (tranLat, tranLon, 0.0)) # Transmit z = 0.0"
   ]
  },
  {
   "cell_type": "code",
   "execution_count": 65,
   "metadata": {},
   "outputs": [
    {
     "name": "stdout",
     "output_type": "stream",
     "text": [
      "9.28872557605e-06\n",
      "1.29694202776e-06\n",
      "7.38420396238e-06\n",
      "----------\n",
      "0.0308484792833\n",
      "51.294539696\n"
     ]
    }
   ],
   "source": [
    "# Useful link: https://www.rapidtables.com/electric/dBm.html\n",
    "\n",
    "Pt = 10.0 #(10.0)**(-10.0/10.0) # Power transmitted [dB]\n",
    "Gt = -35.5 # B210 Radio transmit gain [dB]\n",
    "Gr = -89.0 # X310 Radio receive gain [dB]\n",
    "c = 299792458.0 # Speed of light [m/s]\n",
    "freq = 5.565e+9 # Frequency [Hz]\n",
    "lamda = c/freq\n",
    "d4 = dist['Honors'] # Distance from Honors Dorm to Transmitter\n",
    "d6 = dist['SouthMedical'] # Distance from South Medical to Transmitter\n",
    "d7 = dist['SMBB'] # Distance from SMBB to Transmitter\n",
    "\n",
    "pR4 = Pt*Gt*Gr*((lamda/(4*math.pi*d4))**2)\n",
    "pR6 = Pt*Gt*Gr*((lamda/(4*math.pi*d6))**2)\n",
    "pR7 = Pt*Gt*Gr*((lamda/(4*math.pi*d7))**2)\n",
    "\n",
    "# Calculating the power ratio's using approximate distances between receivers in units of meters\n",
    "gam76 = (pR6**2)/(pR7**2) # Ratio between SMBB and Medical Tower\n",
    "gam64 = (pR4**2)/(pR6**2) # Ratio between SMBB and Honors\n",
    "\n",
    "print pR4\n",
    "print pR6\n",
    "print pR7\n",
    "print '----------'\n",
    "print gam76\n",
    "print gam64\n",
    "\n"
   ]
  },
  {
   "cell_type": "code",
   "execution_count": null,
   "metadata": {},
   "outputs": [],
   "source": []
  }
 ],
 "metadata": {
  "kernelspec": {
   "display_name": "Python 2",
   "language": "python",
   "name": "python2"
  },
  "language_info": {
   "codemirror_mode": {
    "name": "ipython",
    "version": 2
   },
   "file_extension": ".py",
   "mimetype": "text/x-python",
   "name": "python",
   "nbconvert_exporter": "python",
   "pygments_lexer": "ipython2",
   "version": "2.7.17"
  }
 },
 "nbformat": 4,
 "nbformat_minor": 2
}
