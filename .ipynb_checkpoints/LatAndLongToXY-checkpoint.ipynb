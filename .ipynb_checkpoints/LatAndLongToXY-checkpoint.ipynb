{
 "cells": [
  {
   "cell_type": "code",
   "execution_count": 19,
   "metadata": {},
   "outputs": [],
   "source": [
    "import math\n",
    "\n",
    "def d2R(x): # degrees to radians\n",
    "    rad = x*(math.pi/180.0)\n",
    "    return rad\n",
    "\n",
    "def DistX(lat1, lon1, lat2, lon2): # (lat1, lon1) is the campus origin of choice \n",
    "    c = 4.0075017e7 # Earth's circumference in meters\n",
    "    dx = (lon1-lon2)*c*math.cos((lat1+lat2)*math.pi/360)/360\n",
    "    return dx\n",
    "\n",
    "def DistY(lat1, lat2):\n",
    "    c = 4.0075017e7 # Earth's circumference in meters\n",
    "    dy = (lat1-lat2)*c/360\n",
    "    return dy\n",
    "\n"
   ]
  },
  {
   "cell_type": "code",
   "execution_count": 20,
   "metadata": {},
   "outputs": [],
   "source": [
    "    # Convert Lat, Lon, Altitude to Earth-Centered-Earth-Fixed (ECEF)\n",
    "    # Returns x, y, z in meters. Assumes the altitude to be in feet and then converts it to meters.\n",
    "def Lla2Ecef(lat, lon, alt):\n",
    "        alt  = 0.3048*alt #+ Erad      # Earths radius plus current elevation in meters\n",
    "        lat = d2R(lat)\n",
    "        lon = d2R(lon)\n",
    "        ec = 6.6943799901377997e-3            # WGS-84 first eccentricity squared\n",
    "        a     = 6378137.0                     # WGS-84semi-major axis\n",
    "        Erad  = 6.371009e6                    # Earths radius in meters\n",
    "        n     = a/math.sqrt(1 - ec*math.sin(lat)*math.sin(lat))\n",
    "        ecefX = (n + alt)*math.cos(lat)*math.cos(lon)\n",
    "        ecefY = (n + alt)*math.cos(lat)*math.sin(lon)\n",
    "        ecefZ = (n*(1 - ec) + alt)*math.sin(lat)\n",
    "        return(ecefX, ecefY, ecefZ)"
   ]
  },
  {
   "cell_type": "code",
   "execution_count": 21,
   "metadata": {},
   "outputs": [
    {
     "name": "stdout",
     "output_type": "stream",
     "text": [
      "(-1800011.0316396283, -4491420.245654046, 4143767.345228527)\n"
     ]
    }
   ],
   "source": [
    "fun = Lla2Ecef(40.766360, -111.839262, 4826.34)\n",
    "print(fun)"
   ]
  },
  {
   "cell_type": "code",
   "execution_count": null,
   "metadata": {},
   "outputs": [],
   "source": []
  }
 ],
 "metadata": {
  "kernelspec": {
   "display_name": "Python 2",
   "language": "python",
   "name": "python2"
  },
  "language_info": {
   "codemirror_mode": {
    "name": "ipython",
    "version": 2
   },
   "file_extension": ".py",
   "mimetype": "text/x-python",
   "name": "python",
   "nbconvert_exporter": "python",
   "pygments_lexer": "ipython2",
   "version": "2.7.15+"
  }
 },
 "nbformat": 4,
 "nbformat_minor": 2
}
