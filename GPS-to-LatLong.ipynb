{
 "cells": [
  {
   "cell_type": "code",
   "execution_count": 8,
   "metadata": {},
   "outputs": [
    {
     "name": "stdout",
     "output_type": "stream",
     "text": [
      "('Decimal Conversion:', '40.761671')\n"
     ]
    }
   ],
   "source": [
    "def GpsToDec(degrees, minutes, seconds): # Converts GPS coordinates to Lat and Long in decimal\n",
    "    D = float(degrees) + float(minutes)/60 + float(seconds)/(60*60)\n",
    "    return D\n",
    "\n",
    "lat1 = GpsToDec(40, 45, 42.0156)\n",
    "\n",
    "print('Decimal Conversion:', '%.6f'%(lat1))"
   ]
  },
  {
   "cell_type": "code",
   "execution_count": null,
   "metadata": {},
   "outputs": [],
   "source": []
  }
 ],
 "metadata": {
  "kernelspec": {
   "display_name": "Python 2",
   "language": "python",
   "name": "python2"
  },
  "language_info": {
   "codemirror_mode": {
    "name": "ipython",
    "version": 2
   },
   "file_extension": ".py",
   "mimetype": "text/x-python",
   "name": "python",
   "nbconvert_exporter": "python",
   "pygments_lexer": "ipython2",
   "version": "2.7.15+"
  }
 },
 "nbformat": 4,
 "nbformat_minor": 2
}
